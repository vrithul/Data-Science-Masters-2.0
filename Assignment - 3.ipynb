{
 "cells": [
  {
   "cell_type": "markdown",
   "id": "ec7c9ae0",
   "metadata": {},
   "source": [
    "## Answer 1"
   ]
  },
  {
   "cell_type": "markdown",
   "id": "5f3b369b",
   "metadata": {},
   "source": [
    "The **def** keyword is used to create a function."
   ]
  },
  {
   "cell_type": "code",
   "execution_count": 1,
   "id": "00d7fd9f",
   "metadata": {},
   "outputs": [],
   "source": [
    "def odd_num(n,m):\n",
    "    odd_list = []\n",
    "    for i in range(n,m):\n",
    "        if i%2 != 0:\n",
    "            odd_list.append(i)\n",
    "    return odd_list"
   ]
  },
  {
   "cell_type": "code",
   "execution_count": 2,
   "id": "24596501",
   "metadata": {},
   "outputs": [
    {
     "data": {
      "text/plain": [
       "[1, 3, 5, 7, 9, 11, 13, 15, 17, 19, 21, 23]"
      ]
     },
     "execution_count": 2,
     "metadata": {},
     "output_type": "execute_result"
    }
   ],
   "source": [
    "odd_num(1,25)"
   ]
  },
  {
   "cell_type": "markdown",
   "id": "5749d851",
   "metadata": {},
   "source": [
    "## Answer 2"
   ]
  },
  {
   "cell_type": "markdown",
   "id": "bcba94e0",
   "metadata": {},
   "source": [
    "We use \\*args and \\*\\*kwargs in some functions when we are unsure about the number of arguments that is needed in a function. \\*args deals with non-keyword argument whereas \\*\\*kwargs deals with Keyword argumnets in a function. "
   ]
  },
  {
   "cell_type": "code",
   "execution_count": 3,
   "id": "86efa79d",
   "metadata": {},
   "outputs": [],
   "source": [
    "def test1(*args):\n",
    "    return args"
   ]
  },
  {
   "cell_type": "code",
   "execution_count": 4,
   "id": "63539ee5",
   "metadata": {},
   "outputs": [
    {
     "data": {
      "text/plain": [
       "(1, 2, 3, 'Rithul', (34+5j), ['Apples', 'Grapes', 'Pineapple'])"
      ]
     },
     "execution_count": 4,
     "metadata": {},
     "output_type": "execute_result"
    }
   ],
   "source": [
    "test1(1,2,3,'Rithul',34+5j,['Apples','Grapes','Pineapple'])"
   ]
  },
  {
   "cell_type": "code",
   "execution_count": 5,
   "id": "1d9a4f33",
   "metadata": {},
   "outputs": [],
   "source": [
    "def test2(**kwargs):\n",
    "    return kwargs"
   ]
  },
  {
   "cell_type": "code",
   "execution_count": 6,
   "id": "23e7382a",
   "metadata": {},
   "outputs": [
    {
     "data": {
      "text/plain": [
       "{'Name': ['Rithul', 'Edwin', 'Ancy'], 'Age': [22, 21, 23]}"
      ]
     },
     "execution_count": 6,
     "metadata": {},
     "output_type": "execute_result"
    }
   ],
   "source": [
    "test2(Name = ['Rithul','Edwin','Ancy'], Age = [22,21,23])"
   ]
  },
  {
   "cell_type": "markdown",
   "id": "3c2b633d",
   "metadata": {},
   "source": [
    "## Answer 3"
   ]
  },
  {
   "cell_type": "markdown",
   "id": "46c903dc",
   "metadata": {},
   "source": [
    "**Iterator** is an object which allows us to loop or iterate over a collection or sequence of data like list,tuples,dictionary,etc. The **iter()** method is used to initialise the iterator object and **next()** method is used for iteration."
   ]
  },
  {
   "cell_type": "code",
   "execution_count": 7,
   "id": "d6005156",
   "metadata": {},
   "outputs": [
    {
     "name": "stdout",
     "output_type": "stream",
     "text": [
      "2\n",
      "4\n",
      "6\n",
      "8\n",
      "10\n"
     ]
    }
   ],
   "source": [
    "list1 = [2,4,6,8,10,12,14,16,18,20]\n",
    "x = iter(list1)\n",
    "print(next(x))\n",
    "print(next(x))\n",
    "print(next(x))\n",
    "print(next(x))\n",
    "print(next(x))"
   ]
  },
  {
   "cell_type": "markdown",
   "id": "e0d9ecb1",
   "metadata": {},
   "source": [
    "## Answer 4"
   ]
  },
  {
   "cell_type": "markdown",
   "id": "03dc1761",
   "metadata": {},
   "source": [
    "Generators are useful when we want to produce a large sequence of values, but we don't want to store all of them in memory at once. In generator, **'yield'** keyword is used to control the flow of generator function. \n",
    "\n",
    "Generator is only used when we just need to know the current value rather than knowing the preceeding or suceeding number in the sequence. So the execution gets stopped unless and until we call the next function to know the next current value. Generator is not used when we need to know all the preceeding and suceeding values in the memory."
   ]
  },
  {
   "cell_type": "code",
   "execution_count": 8,
   "id": "0ce728f5",
   "metadata": {},
   "outputs": [],
   "source": [
    "def gen(n):\n",
    "    for i in range(n):\n",
    "        yield i"
   ]
  },
  {
   "cell_type": "code",
   "execution_count": 9,
   "id": "81fb01e3",
   "metadata": {},
   "outputs": [
    {
     "name": "stdout",
     "output_type": "stream",
     "text": [
      "0\n",
      "1\n",
      "2\n",
      "3\n",
      "4\n"
     ]
    }
   ],
   "source": [
    "for i in gen(5):\n",
    "    print(i)"
   ]
  },
  {
   "cell_type": "markdown",
   "id": "674cb656",
   "metadata": {},
   "source": [
    "## Answer 5"
   ]
  },
  {
   "cell_type": "code",
   "execution_count": 10,
   "id": "dee2a75b",
   "metadata": {},
   "outputs": [],
   "source": [
    "def gen_prime(a):\n",
    "    for i in range(2,a):\n",
    "        flag = 0\n",
    "        for j in range(2,i):\n",
    "            if i%j == 0:\n",
    "                flag = 1\n",
    "                break\n",
    "        if flag == 0:\n",
    "            yield i"
   ]
  },
  {
   "cell_type": "code",
   "execution_count": 11,
   "id": "5e020ef1",
   "metadata": {},
   "outputs": [],
   "source": [
    "x = gen_prime(1000)"
   ]
  },
  {
   "cell_type": "code",
   "execution_count": 12,
   "id": "d223cc45",
   "metadata": {},
   "outputs": [
    {
     "name": "stdout",
     "output_type": "stream",
     "text": [
      "<generator object gen_prime at 0x7f89bdb67200>\n"
     ]
    }
   ],
   "source": [
    "print(x)"
   ]
  },
  {
   "cell_type": "code",
   "execution_count": 13,
   "id": "cad4bdcd",
   "metadata": {},
   "outputs": [
    {
     "name": "stdout",
     "output_type": "stream",
     "text": [
      "2\n",
      "3\n",
      "5\n",
      "7\n",
      "11\n",
      "13\n",
      "17\n",
      "19\n",
      "23\n",
      "29\n",
      "31\n",
      "37\n",
      "41\n",
      "43\n",
      "47\n",
      "53\n",
      "59\n",
      "61\n",
      "67\n",
      "71\n"
     ]
    }
   ],
   "source": [
    "print(next(x))\n",
    "print(next(x))\n",
    "print(next(x))\n",
    "print(next(x))\n",
    "print(next(x))\n",
    "print(next(x))\n",
    "print(next(x))\n",
    "print(next(x))\n",
    "print(next(x))\n",
    "print(next(x))\n",
    "print(next(x))\n",
    "print(next(x))\n",
    "print(next(x))\n",
    "print(next(x))\n",
    "print(next(x))\n",
    "print(next(x))\n",
    "print(next(x))\n",
    "print(next(x))\n",
    "print(next(x))\n",
    "print(next(x))"
   ]
  },
  {
   "cell_type": "markdown",
   "id": "0e9921a9",
   "metadata": {},
   "source": [
    "## Answer 6"
   ]
  },
  {
   "cell_type": "code",
   "execution_count": 14,
   "id": "ce076da6",
   "metadata": {},
   "outputs": [
    {
     "name": "stdout",
     "output_type": "stream",
     "text": [
      "0\n",
      "1\n",
      "1\n",
      "2\n",
      "3\n",
      "5\n",
      "8\n",
      "13\n",
      "21\n",
      "34\n"
     ]
    }
   ],
   "source": [
    "a,b = 0,1\n",
    "num = 0\n",
    "while num < 10:\n",
    "    print(a)\n",
    "    a,b = b,a+b\n",
    "    num+= 1"
   ]
  },
  {
   "cell_type": "markdown",
   "id": "b06a3158",
   "metadata": {},
   "source": [
    "## Answer 7"
   ]
  },
  {
   "cell_type": "code",
   "execution_count": 15,
   "id": "00963e3f",
   "metadata": {},
   "outputs": [],
   "source": [
    "strings = 'pwskills'\n",
    "new_lists = []\n",
    "lists = [new_lists.append(i) for i in strings]"
   ]
  },
  {
   "cell_type": "code",
   "execution_count": 16,
   "id": "6e3527ea",
   "metadata": {},
   "outputs": [
    {
     "name": "stdout",
     "output_type": "stream",
     "text": [
      "['p', 'w', 's', 'k', 'i', 'l', 'l', 's']\n"
     ]
    }
   ],
   "source": [
    "print(new_lists)"
   ]
  },
  {
   "cell_type": "markdown",
   "id": "9f4fedc6",
   "metadata": {},
   "source": [
    "## Answer 8"
   ]
  },
  {
   "cell_type": "code",
   "execution_count": 17,
   "id": "ef0177d8",
   "metadata": {},
   "outputs": [
    {
     "name": "stdout",
     "output_type": "stream",
     "text": [
      "Enter a number: 141\n",
      "The number is palindrome\n"
     ]
    }
   ],
   "source": [
    "number = int(input('Enter a number: '))\n",
    "num = number\n",
    "rev = 0\n",
    "while number != 0 :\n",
    "    r = number%10\n",
    "    rev = rev*10+r\n",
    "    number = number//10\n",
    "if num == rev:\n",
    "    print('The number is palindrome')\n",
    "else:\n",
    "    print('The number is not palindrome')"
   ]
  },
  {
   "cell_type": "markdown",
   "id": "cf0f852b",
   "metadata": {},
   "source": [
    "## Answer 9"
   ]
  },
  {
   "cell_type": "code",
   "execution_count": 18,
   "id": "5cd18d71",
   "metadata": {},
   "outputs": [],
   "source": [
    "lists = [i for i in range(1,101)]"
   ]
  },
  {
   "cell_type": "code",
   "execution_count": 19,
   "id": "ec5c7dc0",
   "metadata": {},
   "outputs": [
    {
     "name": "stdout",
     "output_type": "stream",
     "text": [
      "[1, 2, 3, 4, 5, 6, 7, 8, 9, 10, 11, 12, 13, 14, 15, 16, 17, 18, 19, 20, 21, 22, 23, 24, 25, 26, 27, 28, 29, 30, 31, 32, 33, 34, 35, 36, 37, 38, 39, 40, 41, 42, 43, 44, 45, 46, 47, 48, 49, 50, 51, 52, 53, 54, 55, 56, 57, 58, 59, 60, 61, 62, 63, 64, 65, 66, 67, 68, 69, 70, 71, 72, 73, 74, 75, 76, 77, 78, 79, 80, 81, 82, 83, 84, 85, 86, 87, 88, 89, 90, 91, 92, 93, 94, 95, 96, 97, 98, 99, 100]\n"
     ]
    }
   ],
   "source": [
    "print(lists)"
   ]
  },
  {
   "cell_type": "code",
   "execution_count": 20,
   "id": "c964fa86",
   "metadata": {},
   "outputs": [
    {
     "name": "stdout",
     "output_type": "stream",
     "text": [
      "[1, 3, 5, 7, 9, 11, 13, 15, 17, 19, 21, 23, 25, 27, 29, 31, 33, 35, 37, 39, 41, 43, 45, 47, 49, 51, 53, 55, 57, 59, 61, 63, 65, 67, 69, 71, 73, 75, 77, 79, 81, 83, 85, 87, 89, 91, 93, 95, 97, 99]\n"
     ]
    }
   ],
   "source": [
    "odd_num = [a for a in lists if a%2!=0]\n",
    "print(odd_num)"
   ]
  },
  {
   "cell_type": "code",
   "execution_count": null,
   "id": "9c5d49d8",
   "metadata": {},
   "outputs": [],
   "source": []
  }
 ],
 "metadata": {
  "kernelspec": {
   "display_name": "Python 3 (ipykernel)",
   "language": "python",
   "name": "python3"
  },
  "language_info": {
   "codemirror_mode": {
    "name": "ipython",
    "version": 3
   },
   "file_extension": ".py",
   "mimetype": "text/x-python",
   "name": "python",
   "nbconvert_exporter": "python",
   "pygments_lexer": "ipython3",
   "version": "3.9.12"
  }
 },
 "nbformat": 4,
 "nbformat_minor": 5
}
