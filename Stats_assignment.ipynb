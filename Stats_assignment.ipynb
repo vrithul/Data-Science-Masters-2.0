{
 "cells": [
  {
   "cell_type": "markdown",
   "id": "7d43a8a0-cef9-442f-ae8d-3800f1edaf5e",
   "metadata": {},
   "source": [
    "## Question 1\n",
    "\n",
    "Statistics is the science of collecting, organizing and analaysing the  data. Statistics plays an important role in decision-making proccess in an organization."
   ]
  },
  {
   "cell_type": "markdown",
   "id": "10a26c0c-dbd0-4841-81d6-b8ac9110c402",
   "metadata": {},
   "source": [
    "## Question 2\n",
    "\n",
    "There are two types of statistics:\n",
    "\n",
    "|Descriptive Statistics|Inferential Statistics|\n",
    "|:---------:|:----------:|\n",
    "|It consisits of organizing and summarizing the data | It consists of using the data you have measured to form conclusions|\n",
    "|Example - What is the average height of the students in the entire classroom|Example - Are the height of the students in the classroom  similar to what you expect in the entire college|"
   ]
  },
  {
   "cell_type": "markdown",
   "id": "7662f92a-2b07-46ae-866e-24d90a223cdf",
   "metadata": {},
   "source": [
    "## Question 3 \n",
    "\n",
    "Data are divided into two types: \n",
    "1. Quantitative Data : - Which only contains the numerical data. It is further divided into:\n",
    "   - Discrete Data: It is always in Whole Number. Example: No of bank accounts, No of Children, etc.\n",
    "   - Continuous Data: It can be any value. Example: Height, Weight, etc.\n",
    "\n",
    "\n",
    "2. Qualitative Data : - Which only contains the categorical data. It is further divided into:\n",
    "   - Nominal Data: There is no rank or order. Example: Blood Groups, Gender, etc.\n",
    "   - Ordinal Data: There is a rank or order. Example: Good, Bad or Satisfactory, etc\n",
    "  \n"
   ]
  },
  {
   "cell_type": "markdown",
   "id": "52e5ba19-95ce-496c-8b8c-cd9872bab722",
   "metadata": {},
   "source": [
    "## Question 4\n",
    "\n",
    "i) Grading in exam: - **Qualitative Data(Ordinal Data)**\n",
    "\n",
    "ii) Colour of mangoes: - **Qualitative Data(Nominal Data)**\n",
    "\n",
    "iii) Height data of a class: - **Quantitative Data(Continuous Data)**\n",
    "\n",
    "iv) Number of mangoes exported by a farm: - **Quantitative Data(Discrete Data)**"
   ]
  },
  {
   "cell_type": "markdown",
   "id": "b661714d-a13f-4d91-a96f-da0585c359f5",
   "metadata": {},
   "source": [
    "## Question 5\n",
    "\n",
    "There are 4 levels of measurement where each levels are used to categorize and describe data based on their characteristics and properties.\n",
    "\n",
    "1. Nominal Scale Data: - Only Categorical Data is taken here. There is no order or rank. Example: Gender, Colour, Pincode, etc.\n",
    "2. Ordinal Scale Data: - Rank and Order is imported here. Difference cannot be measured. Example: Monday To Friday, It can written as Monday = 0 and Friday = 4.\n",
    "3. Interval Scale Data: - The order matters a lot here. Difference can be measured. Only Quantitative data is taken here. Ratio cannot be measured. No true zero stating point. Example: Temperature, Time, etc.\n",
    "4. Ratio Scale Data: - The order matters a lot here. Difference and ratio can be measured. It is also quantitative in nature. It contains a true zero starting point. Example: Students marks in a subject, etc. "
   ]
  },
  {
   "cell_type": "markdown",
   "id": "bcf281b9-0b4a-415f-854e-16a1fad7e4a4",
   "metadata": {},
   "source": [
    "## Question 6 \n",
    "\n",
    "Understanding the level of measurement is crucial when analyzing data because it helps researchers and analysts choose the appropriate statistical techniques and interpret the results accurately. The level of measurement determines the mathematical operations that can be performed on the data and the meaningfulness of those operations.\n",
    "\n",
    "**Now, let's consider an example to illustrate the importance of understanding the level of measurement:**\n",
    "\n",
    "Suppose researchers are analyzing customer satisfaction with a product using a survey. The survey includes questions about various aspects of the product, and the responses are collected on different scales:\n",
    "\n",
    "- The gender of the customer (Nominal)\n",
    "- Ratings on the ease of use of the product (Ordinal)\n",
    "- Temperature in the region where the customer resides (Interval)\n",
    "- Annual income of the customer (Ratio)\n",
    "\n",
    "If the researchers treat the ordinal data on ease of use as if it were interval or ratio, they might incorrectly calculate means or perform other statistical operations that assume equal intervals between categories. This could lead to misleading interpretations and conclusions about the product's perceived ease of use."
   ]
  },
  {
   "cell_type": "markdown",
   "id": "92f55969-b790-42f5-b9c4-d9fa2a744fe0",
   "metadata": {},
   "source": [
    "## Question 7\n",
    "\n",
    "**Nominal data**: This is where the data is categorized into distinct groups or categories. The categories have no inherent order or numerical value. Examples include gender, ethnicity, or types of fruits.\n",
    "\n",
    "**Ordinal data**: In this, data can be categorized, and the categories have a meaningful order. However, the intervals between categories are not consistent or meaningful. An example is a Likert scale where responses are ordered but the difference between, say, \"agree\" and \"strongly agree\" is not standardized."
   ]
  },
  {
   "cell_type": "markdown",
   "id": "a5f22200-203f-4173-8014-eb0a37451705",
   "metadata": {},
   "source": [
    "## Question 8 \n",
    "\n",
    "A box plot, also known as a box-and-whisker plot, is commonly used to display data in terms of range. A box plot provides a visual representation of the distribution, central tendency, and spread of a dataset. It is particularly useful for comparing the ranges of different groups or categories within the data."
   ]
  },
  {
   "cell_type": "markdown",
   "id": "4c2f4637-1bdd-48f8-9838-c4c7c9ce295c",
   "metadata": {},
   "source": [
    "## Question 9\n",
    "\n",
    "There are two types of statistics:\n",
    "\n",
    "|Descriptive Statistics|Inferential Statistics|\n",
    "|:---------:|:----------:|\n",
    "|It consisits of organizing and summarizing the data | It consists of using the data you have measured to form conclusions|\n",
    "|Example - What is the average height of the students in the entire classroom|Example - Are the height of the students in the classroom  similar to what you expect in the entire college|\n",
    "|Mean, Median, Mode, Variance and Standard Deviation all comes under this|z-test,t-test,chi-square test all comes under this|\n"
   ]
  },
  {
   "cell_type": "markdown",
   "id": "8164daa4-dadb-4c76-a3ba-5388a8251a12",
   "metadata": {},
   "source": [
    "## Question 10\n",
    "\n",
    "Measures of central tendency and variability are essential in statistics to summarize and describe datasets. They provide insights into the typical or central value of the data and the spread or variability around that central value. Here are some common measures of central tendency and variability:\n",
    "\n",
    "**Measures of Central Tendency:**\n",
    "\n",
    "1. **Mean (Average):**\n",
    "   - **Description:** The mean is calculated by summing up all the values in a dataset and dividing by the number of observations.\n",
    "   - **Use:** It provides a measure of the central location of the data. The mean is sensitive to extreme values (outliers) and is appropriate for normally distributed data.\n",
    "\n",
    "2. **Median:**\n",
    "   - **Description:** The median is the middle value in a sorted dataset. If there is an even number of observations, the median is the average of the two middle values.\n",
    "   - **Use:** It is less sensitive to outliers than the mean and is suitable for skewed or non-normally distributed data.\n",
    "\n",
    "3. **Mode:**\n",
    "   - **Description:** The mode is the most frequently occurring value in a dataset.\n",
    "   - **Use:** It is useful for categorical data or discrete distributions. A dataset may have one mode (unimodal), more than one mode (multimodal), or no mode at all.\n",
    "\n",
    "**Measures of Variability (Dispersion):**\n",
    "\n",
    "1. **Range:**\n",
    "   - **Description:** The range is the difference between the maximum and minimum values in a dataset.\n",
    "   - **Use:** It provides a simple measure of the spread of the data. However, it is sensitive to extreme values and may not capture the overall variability well.\n",
    "\n",
    "2. **Variance:**\n",
    "   - **Description:** Variance is the average of the squared differences between each data point and the mean.\n",
    "   - **Use:** It provides a measure of the average squared deviation from the mean. However, the units are squared, so the standard deviation is often preferred for better interpretability.\n",
    "\n",
    "3. **Standard Deviation:**\n",
    "   - **Description:** The standard deviation is the square root of the variance. It measures the average deviation of each data point from the mean.\n",
    "   - **Use:** It is a widely used and easily interpretable measure of variability. It is appropriate for normal distributions and is sensitive to outliers.\n",
    "\n",
    "4. **Interquartile Range (IQR):**\n",
    "   - **Description:** The IQR is the range between the first quartile (Q1) and the third quartile (Q3).\n",
    "   - **Use:** It provides a measure of the spread of the middle 50% of the data, making it robust to outliers. It is useful for skewed distributions."
   ]
  },
  {
   "cell_type": "code",
   "execution_count": null,
   "id": "7ae62b1a-ca43-495e-91b0-af701a64aac6",
   "metadata": {},
   "outputs": [],
   "source": []
  }
 ],
 "metadata": {
  "kernelspec": {
   "display_name": "Python 3 (ipykernel)",
   "language": "python",
   "name": "python3"
  },
  "language_info": {
   "codemirror_mode": {
    "name": "ipython",
    "version": 3
   },
   "file_extension": ".py",
   "mimetype": "text/x-python",
   "name": "python",
   "nbconvert_exporter": "python",
   "pygments_lexer": "ipython3",
   "version": "3.11.5"
  }
 },
 "nbformat": 4,
 "nbformat_minor": 5
}
