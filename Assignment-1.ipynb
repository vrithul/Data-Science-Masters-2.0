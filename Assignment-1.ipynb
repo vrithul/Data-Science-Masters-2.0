{
 "cells": [
  {
   "cell_type": "raw",
   "id": "2eb89f83",
   "metadata": {},
   "source": [
    "i) name = 'Rithul'\n",
    "ii) lists = [1,2,3,4,5]\n",
    "iii) num = 3.5\n",
    "iv )tuples = (1,2,3)"
   ]
  },
  {
   "cell_type": "raw",
   "id": "ad223e75",
   "metadata": {},
   "source": [
    "i) String\n",
    "ii) String\n",
    "iii) List\n",
    "iv) Float"
   ]
  },
  {
   "cell_type": "raw",
   "id": "6cc07701",
   "metadata": {},
   "source": [
    "i) / This is one of the arithmetic operators used for division and the results are in float type.\n",
    "ii) % This is one of the arithmetic operators known as modulus which is used to find the remainder.\n",
    "iii) // This is one of the arithmetic operators known as Floor Division which is similar to Division but results will be in integer type.\n",
    "iv) ** This is one of the arithmetic operators known as exponentiation."
   ]
  },
  {
   "cell_type": "code",
   "execution_count": 1,
   "id": "db1f16ca",
   "metadata": {},
   "outputs": [
    {
     "name": "stdout",
     "output_type": "stream",
     "text": [
      "11.0\n",
      "1\n",
      "11\n",
      "8\n"
     ]
    }
   ],
   "source": [
    "print(44/4)\n",
    "print(10%3)\n",
    "print(44//4)\n",
    "print(2**3)"
   ]
  },
  {
   "cell_type": "code",
   "execution_count": 2,
   "id": "3c6f2d54",
   "metadata": {},
   "outputs": [
    {
     "name": "stdout",
     "output_type": "stream",
     "text": [
      "Tomato\n",
      "<class 'str'>\n",
      "2.3\n",
      "<class 'float'>\n",
      "Vegetables\n",
      "<class 'str'>\n",
      "5\n",
      "<class 'int'>\n",
      "True\n",
      "<class 'bool'>\n",
      "(4+5j)\n",
      "<class 'complex'>\n",
      "66\n",
      "<class 'int'>\n",
      "False\n",
      "<class 'bool'>\n",
      "(3+2j)\n",
      "<class 'complex'>\n",
      "10.56\n",
      "<class 'float'>\n"
     ]
    }
   ],
   "source": [
    "items = ['Tomato',2.3,'Vegetables',5,True,4+5j,66,False,3+2j,10.56]\n",
    "for i in items:\n",
    "    print(i)\n",
    "    print(type(i))"
   ]
  },
  {
   "cell_type": "code",
   "execution_count": 3,
   "id": "c26472d3",
   "metadata": {},
   "outputs": [
    {
     "name": "stdout",
     "output_type": "stream",
     "text": [
      "Enter a positive integer number:10\n",
      "Enter a positive ineger number:2\n",
      "2\n",
      "5\n",
      "10\n"
     ]
    }
   ],
   "source": [
    "A = int(input(\"Enter a positive integer number:\"))\n",
    "B = int(input(\"Enter a positive ineger number:\"))\n",
    "while B<=A:\n",
    "    if A%B == 0:\n",
    "        print(B)\n",
    "    B+= 1"
   ]
  },
  {
   "cell_type": "code",
   "execution_count": 4,
   "id": "a5b1fe4a",
   "metadata": {},
   "outputs": [
    {
     "name": "stdout",
     "output_type": "stream",
     "text": [
      "0  is divisible by 3\n",
      "1  is not divisble by 3\n",
      "2  is not divisble by 3\n",
      "3  is divisible by 3\n",
      "4  is not divisble by 3\n",
      "5  is not divisble by 3\n",
      "6  is divisible by 3\n",
      "7  is not divisble by 3\n",
      "8  is not divisble by 3\n",
      "9  is divisible by 3\n",
      "10  is not divisble by 3\n",
      "11  is not divisble by 3\n",
      "12  is divisible by 3\n",
      "13  is not divisble by 3\n",
      "14  is not divisble by 3\n",
      "15  is divisible by 3\n",
      "16  is not divisble by 3\n",
      "17  is not divisble by 3\n",
      "18  is divisible by 3\n",
      "19  is not divisble by 3\n",
      "20  is not divisble by 3\n",
      "21  is divisible by 3\n",
      "22  is not divisble by 3\n",
      "23  is not divisble by 3\n",
      "24  is divisible by 3\n"
     ]
    }
   ],
   "source": [
    "numbers = list(range(25))\n",
    "for i in numbers:\n",
    "    if i%3 == 0:\n",
    "        print(i,' is divisible by 3')\n",
    "    else:\n",
    "        print(i,' is not divisble by 3')"
   ]
  },
  {
   "cell_type": "raw",
   "id": "41148da1",
   "metadata": {},
   "source": [
    "Mutable data types are those which allows us to change its values without changing its identity. For example, Lists.\n",
    "\n",
    "Immutable data types are those which do not allows us to change its values without changing its identity. For example, String, Tuples, etc."
   ]
  },
  {
   "cell_type": "code",
   "execution_count": 5,
   "id": "de02166d",
   "metadata": {},
   "outputs": [
    {
     "name": "stdout",
     "output_type": "stream",
     "text": [
      "['Apple', 'Banana', 'Oranges']\n"
     ]
    }
   ],
   "source": [
    "#Mutable\n",
    "Lists = ['Apple','Banana','Ice-cream']\n",
    "Lists[-1] = 'Oranges'\n",
    "print(Lists)"
   ]
  },
  {
   "cell_type": "code",
   "execution_count": 6,
   "id": "5a669124",
   "metadata": {},
   "outputs": [
    {
     "ename": "TypeError",
     "evalue": "'str' object does not support item assignment",
     "output_type": "error",
     "traceback": [
      "\u001b[0;31m---------------------------------------------------------------------------\u001b[0m",
      "\u001b[0;31mTypeError\u001b[0m                                 Traceback (most recent call last)",
      "Input \u001b[0;32mIn [6]\u001b[0m, in \u001b[0;36m<cell line: 3>\u001b[0;34m()\u001b[0m\n\u001b[1;32m      1\u001b[0m \u001b[38;5;66;03m#Immutable\u001b[39;00m\n\u001b[1;32m      2\u001b[0m Name \u001b[38;5;241m=\u001b[39m \u001b[38;5;124m'\u001b[39m\u001b[38;5;124mRithul\u001b[39m\u001b[38;5;124m'\u001b[39m\n\u001b[0;32m----> 3\u001b[0m Name[\u001b[38;5;241m0\u001b[39m] \u001b[38;5;241m=\u001b[39m \u001b[38;5;124m'\u001b[39m\u001b[38;5;124mM\u001b[39m\u001b[38;5;124m'\u001b[39m\n\u001b[1;32m      4\u001b[0m \u001b[38;5;28mprint\u001b[39m(Name)\n",
      "\u001b[0;31mTypeError\u001b[0m: 'str' object does not support item assignment"
     ]
    }
   ],
   "source": [
    "#Immutable\n",
    "Name = 'Rithul'\n",
    "Name[0] = 'M'\n",
    "print(Name)"
   ]
  },
  {
   "cell_type": "code",
   "execution_count": null,
   "id": "b72f7e59",
   "metadata": {},
   "outputs": [],
   "source": []
  }
 ],
 "metadata": {
  "kernelspec": {
   "display_name": "Python 3 (ipykernel)",
   "language": "python",
   "name": "python3"
  },
  "language_info": {
   "codemirror_mode": {
    "name": "ipython",
    "version": 3
   },
   "file_extension": ".py",
   "mimetype": "text/x-python",
   "name": "python",
   "nbconvert_exporter": "python",
   "pygments_lexer": "ipython3",
   "version": "3.9.12"
  }
 },
 "nbformat": 4,
 "nbformat_minor": 5
}
