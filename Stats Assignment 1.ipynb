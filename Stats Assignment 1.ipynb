{
 "cells": [
  {
   "cell_type": "markdown",
   "id": "e601c1e7-d8a4-4f2c-a886-619cc016cd56",
   "metadata": {},
   "source": [
    "## Question 1\n",
    "\n",
    "Probability Density Function (PDF) is used to denote the distribution of a Continuous random data."
   ]
  },
  {
   "cell_type": "markdown",
   "id": "0316026b-bb0c-4a93-946a-e58de1ed8d22",
   "metadata": {},
   "source": [
    "## Question 2\n",
    "\n",
    "Following are the types of Probability Distribution:\n",
    "1. Normal or Gaussian Distribution\n",
    "2. Bernoulli Distribution\n",
    "3. Uniform Distribution\n",
    "4. Poisson Distribution\n",
    "5. Log Normal Distribution\n",
    "6. Binomial Distribution"
   ]
  },
  {
   "cell_type": "markdown",
   "id": "975d0dff-a964-464a-b2ed-079af21651d8",
   "metadata": {},
   "source": [
    "## Question 3"
   ]
  },
  {
   "cell_type": "code",
   "execution_count": 21,
   "id": "5d93fe74-be82-4db1-abdd-bf263e0e176f",
   "metadata": {},
   "outputs": [],
   "source": [
    "from scipy.stats import norm"
   ]
  },
  {
   "cell_type": "code",
   "execution_count": 22,
   "id": "8f577780-0081-4265-b3dc-318ba6b83b1e",
   "metadata": {},
   "outputs": [],
   "source": [
    "def normal_pdf(mean,std,point):\n",
    "    pdf = norm.pdf(point,mean,std)\n",
    "    return pdf"
   ]
  },
  {
   "cell_type": "code",
   "execution_count": 23,
   "id": "be6270d8-1bbc-4f6c-9892-527a2f82ad6e",
   "metadata": {},
   "outputs": [
    {
     "name": "stdout",
     "output_type": "stream",
     "text": [
      "The PDF Value is 0.1760\n"
     ]
    }
   ],
   "source": [
    "answer = normal_pdf(4,2,3)\n",
    "print(f\"The PDF Value is {answer:.4f}\")"
   ]
  },
  {
   "cell_type": "markdown",
   "id": "1b918c55-acc6-4315-bb14-820c61f49bbe",
   "metadata": {},
   "source": [
    "## Question 4\n",
    "\n",
    "Some of the properties of Binomial Distribution are:\n",
    "1. Covers only Discrete Random Variable\n",
    "2. Uses PMF\n",
    "3. The outcome are binary for every trial or experiment.\n",
    "4. It is a grouping of Bernoulli Distribution.\n",
    "\n",
    "Example:\n",
    "1. Tossing a Coin 7 Times\n",
    "2. A person is having 10 chances of scoring a goal."
   ]
  },
  {
   "cell_type": "markdown",
   "id": "e2b137e8-4f69-4fce-867b-494b962bb26a",
   "metadata": {},
   "source": [
    "## Question 5"
   ]
  },
  {
   "cell_type": "code",
   "execution_count": 24,
   "id": "ba2b1ce2-2113-41ec-96d9-c871c3378155",
   "metadata": {},
   "outputs": [],
   "source": [
    "import numpy as np \n",
    "import matplotlib.pyplot as plt "
   ]
  },
  {
   "cell_type": "code",
   "execution_count": 25,
   "id": "cd8d44ef-4bf3-49b0-b662-069057751b0f",
   "metadata": {},
   "outputs": [
    {
     "data": {
      "image/png": "[encoded data removed]",
      "text/plain": [
       "<Figure size 640x480 with 1 Axes>"
      ]
     },
     "metadata": {},
     "output_type": "display_data"
    }
   ],
   "source": [
    "sample = np.random.binomial(1,0.4,1000)\n",
    "plt.hist(sample,edgecolor='black')\n",
    "plt.xlabel(\"Number of Successes\")\n",
    "plt.ylabel(\"Frequency\")\n",
    "plt.title(\"Histogram of a Binominal Distribution\")\n",
    "plt.show()"
   ]
  },
  {
   "cell_type": "markdown",
   "id": "8aadbc44-f390-41ac-a45d-37c3ee62cb35",
   "metadata": {},
   "source": [
    "## Question 6 "
   ]
  },
  {
   "cell_type": "code",
   "execution_count": 26,
   "id": "f1d5dd6e-d076-4772-ac03-983e513ef6e7",
   "metadata": {},
   "outputs": [],
   "source": [
    "from scipy.stats import poisson"
   ]
  },
  {
   "cell_type": "code",
   "execution_count": 27,
   "id": "c8b0650c-8eee-45ba-80c6-731c6b328a27",
   "metadata": {},
   "outputs": [],
   "source": [
    "def poisson_cdf(point,mean):\n",
    "    cdf_value = poisson.cdf(point,mean)\n",
    "    return cdf_value"
   ]
  },
  {
   "cell_type": "code",
   "execution_count": 28,
   "id": "a2ffc19f-dd84-4723-9f29-8659a1dc50e5",
   "metadata": {},
   "outputs": [
    {
     "name": "stdout",
     "output_type": "stream",
     "text": [
      "The CDF value is 0.1730\n"
     ]
    }
   ],
   "source": [
    "sample = poisson_cdf(4,7)\n",
    "print(f\"The CDF value is {sample:.4f}\")"
   ]
  },
  {
   "cell_type": "markdown",
   "id": "aabd58b6-cc2b-4f1a-8e3f-c63e43f4a5da",
   "metadata": {},
   "source": [
    "## Question 7 \n",
    "\n",
    "Poisson Distribution describes the number of events occuring in a fixed time interval whereas in Binomial Distribution, the outcomes are binary for every trial or experiment."
   ]
  },
  {
   "cell_type": "markdown",
   "id": "9e1e89f4-f6c4-4529-85d1-0f6e0c2d19ee",
   "metadata": {},
   "source": [
    "## Question 8 "
   ]
  },
  {
   "cell_type": "code",
   "execution_count": 29,
   "id": "d2d77445-957e-4746-8222-cf9e01d8e989",
   "metadata": {},
   "outputs": [
    {
     "data": {
      "text/plain": [
       "array([ 2,  1,  6,  5,  6,  5,  1,  2,  1,  3,  5,  4,  5,  3,  5,  8,  4,\n",
       "        5,  4,  4,  8,  7,  2,  8,  7,  8,  2,  6,  8,  7,  4,  4,  7,  6,\n",
       "        6,  7,  2,  6,  6,  8,  7,  7, 10,  8,  4,  3,  6,  3,  2,  2,  6,\n",
       "        7,  2,  6,  4, 13,  5,  5,  7,  5,  6,  4,  4,  8,  6,  4,  1,  2,\n",
       "        3,  9,  6,  4,  5,  6,  3,  5,  3,  5,  8,  6,  5,  9,  6,  2,  5,\n",
       "        5,  4,  5,  5,  0,  8,  1,  6,  4,  7,  6,  6,  3,  4,  8,  3,  8,\n",
       "        8,  3,  3,  6,  3,  1,  4,  1,  1,  5,  5,  4,  4,  9,  7,  3,  4,\n",
       "        3,  7,  7,  8,  4,  5, 10,  8,  4,  7,  9,  1,  3,  4,  4,  4,  9,\n",
       "        7,  9,  5,  4,  2,  4,  4,  8, 10,  4, 10,  3,  8,  4,  6,  2,  2,\n",
       "        2,  6,  5,  4,  3,  7,  6,  4,  7,  3,  4, 10,  2,  3,  6,  4,  6,\n",
       "        3,  5,  5,  3,  7,  6,  4,  5,  1,  7,  4,  5,  3,  4,  3,  6,  5,\n",
       "        5,  3,  6,  6,  6,  2,  8,  3, 12,  3,  4,  6,  6,  6,  2,  4,  6,\n",
       "        6,  7,  5,  7,  6,  1,  4,  9,  5,  5,  7,  8,  5,  4,  8,  6,  5,\n",
       "        5,  6,  7,  5,  4,  6,  2,  5,  3,  5,  3,  2,  7,  2,  7,  6,  9,\n",
       "        5,  1,  4,  8,  8,  4,  3,  5,  1,  1,  7,  5,  8,  5,  4,  7,  1,\n",
       "        2,  4,  5,  4,  3,  6,  5,  7,  2,  6,  5,  3,  4,  4,  8,  7,  3,\n",
       "        4,  1,  4,  2,  5,  3,  5,  6,  7,  9,  3, 10, 11,  2,  3,  2,  6,\n",
       "        5,  3,  4,  5,  7,  5,  8,  4,  8,  2,  4,  3,  5,  2,  5,  3,  3,\n",
       "        4,  6,  5,  6,  7,  6,  7,  3,  6,  6,  7,  2, 11,  4,  6,  4,  5,\n",
       "        4,  5,  3,  1,  6,  7,  7,  2,  4,  6,  5,  4,  4,  6,  3,  5,  2,\n",
       "        4,  2,  4,  8,  2,  3,  5,  9, 10,  9,  9,  5,  5,  7,  1,  3,  5,\n",
       "        4,  5,  5,  3,  5,  6,  5,  6,  9,  1,  6,  6,  6,  4,  5,  3,  1,\n",
       "        5,  6,  4,  6,  2,  3,  3,  3,  2,  4,  6,  7,  6,  6,  6,  6,  4,\n",
       "        1,  4,  6,  3,  4,  3,  5,  5,  4,  4,  0,  3,  4, 11,  1, 10,  2,\n",
       "        6,  6,  3,  8,  4,  3,  6,  7,  7,  5,  1,  5,  7,  4,  5,  5,  4,\n",
       "        8,  5,  4,  1,  4,  4,  6,  4,  5,  3,  4,  4,  5,  5,  6,  7,  5,\n",
       "        4,  5,  6,  4,  5,  6,  4, 10,  5,  7,  5,  1,  3,  7,  8, 12,  4,\n",
       "        7,  4,  4,  5,  2,  3,  7,  6,  4,  3,  2,  6, 10,  5,  4,  7,  6,\n",
       "        7,  6,  9,  2,  7,  6,  4,  4,  4,  3,  7,  8,  4,  3,  3,  5,  6,\n",
       "        1,  6,  4,  5,  7,  5,  6,  4,  6,  4,  9,  3,  9,  8,  3,  5,  5,\n",
       "        4,  4,  6,  2,  4,  4,  7,  6,  4,  0, 11,  2,  3,  4,  6,  5,  2,\n",
       "        9,  5,  6,  5,  3,  9,  6, 12,  4,  7,  3,  2,  9,  5,  5,  5, 11,\n",
       "        2,  5,  5,  3,  2,  3,  5, 11,  7,  7,  7,  8,  3,  1,  7,  5,  3,\n",
       "        4, 12,  3,  6,  3,  6,  6,  5,  3,  7,  5,  5,  4,  8,  5,  2,  6,\n",
       "        9,  4,  5,  2, 12,  5,  2,  5,  3,  8,  2,  3,  2,  6,  9,  4,  2,\n",
       "        2,  7,  0,  7,  8,  5, 10,  3,  5,  3,  7,  2,  9,  4,  5,  3,  6,\n",
       "        6,  3,  6,  5,  2,  6,  5,  4,  3,  7,  4,  5,  4,  8,  4,  1,  7,\n",
       "        3,  7,  6,  4,  4,  1,  2,  7,  4,  6,  5,  7,  1,  3,  5,  7,  6,\n",
       "        7,  5,  5,  4,  3,  7,  2,  6, 10, 10,  8,  4,  7, 10,  3,  8,  8,\n",
       "        5,  3,  3,  9,  8,  6,  5,  2,  4,  6,  2,  8, 11,  2,  2,  5,  0,\n",
       "        1,  6, 11,  3,  2,  4,  3,  8,  3,  5,  1,  5,  6,  1,  4,  4,  5,\n",
       "        6,  5,  4,  3,  6,  4,  6,  7,  6,  6,  7,  6,  6,  6,  2,  3,  3,\n",
       "        3,  6,  7,  9,  4, 10,  6,  8,  6,  5,  8,  3,  7,  5,  1,  6,  3,\n",
       "        4,  6,  4,  9,  3,  3,  5,  9,  7,  5,  5, 11,  5,  3,  7,  3,  9,\n",
       "        4,  3,  2,  4,  3,  2,  5,  6,  5,  4,  5,  3,  5,  7,  7,  4,  4,\n",
       "        5,  5,  4,  5,  4,  6,  6,  9,  5,  5,  4,  2,  0,  6,  4,  3,  3,\n",
       "        8,  6,  7,  6,  9,  6,  3,  9,  5,  5,  7,  7,  5,  7,  5,  6,  5,\n",
       "        4,  1,  5,  6,  0,  7,  7,  4,  3,  4,  5,  7,  9,  3,  6,  2,  5,\n",
       "        3,  8,  6,  2,  4,  7,  8,  8,  4,  7,  2,  7,  3,  3,  7,  5,  5,\n",
       "        5,  4,  7,  3,  6,  3,  7,  8, 12,  9,  7,  9,  6,  4,  6,  4,  5,\n",
       "        7,  5,  6,  7,  5,  3,  6,  6,  5,  4,  6,  4,  2,  3,  6,  5,  5,\n",
       "        4,  7, 11,  4,  3,  4,  5,  4,  3,  7,  4,  7,  1,  6,  7,  2,  5,\n",
       "        2,  6,  6,  7,  5,  8,  6,  6,  4,  3,  9,  4,  3,  9,  3,  8,  4,\n",
       "        8,  2,  5,  7,  6,  5,  4,  5,  2,  5,  6,  5,  7,  9,  4,  4,  6,\n",
       "        6,  6,  4,  3,  5,  6,  3,  3,  2,  6,  3,  8,  2,  6,  7,  3,  7,\n",
       "        6,  5,  5,  6,  3,  2,  1,  2,  3,  4,  4,  7, 11,  7,  5,  3,  9,\n",
       "        1,  3,  8,  6,  2,  5,  3,  4,  4,  5,  5,  5,  3,  2,  3,  6,  5,\n",
       "        3,  7,  4,  6,  4,  6,  4,  5,  8,  6,  8,  6,  6,  2,  5,  3,  2,\n",
       "        8,  3,  1,  2,  7,  2,  2,  2,  4,  0,  5,  2,  2,  7])"
      ]
     },
     "execution_count": 29,
     "metadata": {},
     "output_type": "execute_result"
    }
   ],
   "source": [
    "from scipy.stats import poisson\n",
    "sample = poisson.rvs(mu=5,size=1000)\n",
    "sample"
   ]
  },
  {
   "cell_type": "code",
   "execution_count": 30,
   "id": "48d705fa-6016-4a9d-96d8-59f275168935",
   "metadata": {},
   "outputs": [
    {
     "name": "stdout",
     "output_type": "stream",
     "text": [
      "The sample mean is 5.0\n",
      "The sample variance is 5.132\n"
     ]
    }
   ],
   "source": [
    "sample_mean = np.mean(sample)\n",
    "print(f\"The sample mean is {sample_mean}\")\n",
    "sample_variance = np.var(sample)\n",
    "print(f\"The sample variance is {sample_variance}\")"
   ]
  },
  {
   "cell_type": "markdown",
   "id": "1747a5a2-2058-469e-9563-f689c55ce20c",
   "metadata": {},
   "source": [
    "## Question 9 \n",
    "\n",
    "In a Binomial distribution, the mean (expected value) is equal to the product of the number of trials (n) and the probability of success (p). The variance is equal to the product of the number of trials (n) and the probability of success (p) multiplied by (1-p).\n",
    "\n",
    "In a Poisson distribution, the mean (expected value) is equal to the parameter lambda (λ). The variance is also equal to the parameter lambda (λ)."
   ]
  },
  {
   "cell_type": "markdown",
   "id": "60aad403-7a27-4e4e-924e-a6bce54e25f4",
   "metadata": {},
   "source": [
    "## Question 10\n",
    "\n",
    "In a Normal Distribution, the least frequent data appears in the tails of the distribution."
   ]
  },
  {
   "cell_type": "code",
   "execution_count": null,
   "id": "f40ee0fe-a868-4d43-9fa8-4dff0eb331df",
   "metadata": {},
   "outputs": [],
   "source": []
  }
 ],
 "metadata": {
  "kernelspec": {
   "display_name": "Python 3 (ipykernel)",
   "language": "python",
   "name": "python3"
  },
  "language_info": {
   "codemirror_mode": {
    "name": "ipython",
    "version": 3
   },
   "file_extension": ".py",
   "mimetype": "text/x-python",
   "name": "python",
   "nbconvert_exporter": "python",
   "pygments_lexer": "ipython3",
   "version": "3.11.5"
  }
 },
 "nbformat": 4,
 "nbformat_minor": 5
}
