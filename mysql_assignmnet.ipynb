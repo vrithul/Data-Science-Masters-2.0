{
 "cells": [
  {
   "cell_type": "markdown",
   "metadata": {},
   "source": [
    "**Q1. What is a database? Differentiate between SQL and NoSQL databases.**\n",
    "\n",
    "A database is a structured collection of data that is organized in a way that allows for efficient storage, retrieval, and management of that data. \n",
    "\n",
    "SQL databases are relational, and NoSQL databases are non-relational. SQL databases use structured query language (SQL) and have a predefined schema. NoSQL databases have dynamic schemas for unstructured data. SQL databases are vertically scalable, while NoSQL databases are horizontally scalable."
   ]
  },
  {
   "cell_type": "markdown",
   "metadata": {},
   "source": [
    "**Q2. What is DDL? Explain why CREATE, DROP, ALTER, and TRUNCATE are used with an example.**\n",
    "\n",
    "DDL (Data Definition Language) is a subset of SQL (Structured Query Language) that deals with the structure of a database. It includes commands for defining, modifying, and deleting database objects like tables, indexes, and schemas. DDL commands are used to manage the schema or metadata of a database.\n",
    "\n",
    "- The CREATE command is used to create new database objects, such as tables, indexes, views, or schemas.\n",
    "- The DROP command is used to delete existing database objects, such as tables, indexes, or views.\n",
    "- The ALTER command is used to modify the structure of an existing database object. It can be used to add, modify, or drop columns, constraints, or indexes.\n",
    "- The TRUNCATE command is used to delete all data from a table but retain the table structure. It's faster than the DELETE command because it doesn't generate individual row deletion logs."
   ]
  },
  {
   "cell_type": "code",
   "execution_count": 1,
   "metadata": {},
   "outputs": [],
   "source": [
    "import mysql.connector\n",
    "dbms = mysql.connector.connect(host=\"localhost\",user=\"root\",password=\"8810511426\")\n",
    "my_cursor = dbms.cursor()\n",
    "my_cursor.execute(\"CREATE DATABASE students\")\n",
    "dbms.close()"
   ]
  },
  {
   "cell_type": "code",
   "execution_count": 4,
   "metadata": {},
   "outputs": [],
   "source": [
    "import mysql.connector\n",
    "dbms = mysql.connector.connect(host=\"localhost\",user=\"root\",password=\"8810511426\")\n",
    "my_cursor = dbms.cursor()\n",
    "my_cursor.execute(\"CREATE TABLE students.1MCA(student_id INT PRIMARY KEY,student_name VARCHAR(30),phone_number INT)\")\n",
    "dbms.close()"
   ]
  },
  {
   "cell_type": "code",
   "execution_count": 5,
   "metadata": {},
   "outputs": [],
   "source": [
    "import mysql.connector\n",
    "dbms = mysql.connector.connect(host=\"localhost\",user=\"root\",password=\"8810511426\")\n",
    "my_cursor = dbms.cursor()\n",
    "my_cursor.execute(\"DROP TABLE students.1MCA\")\n",
    "dbms.close()"
   ]
  },
  {
   "cell_type": "code",
   "execution_count": 1,
   "metadata": {},
   "outputs": [],
   "source": [
    "import mysql.connector\n",
    "dbms = mysql.connector.connect(host=\"localhost\",user=\"root\",password=\"8810511426\")\n",
    "my_cursor = dbms.cursor()\n",
    "my_cursor.execute(\"ALTER TABLE test.items MODIFY COLUMN phone_number VARCHAR(10)\")\n",
    "dbms.commit()\n",
    "dbms.close()"
   ]
  },
  {
   "cell_type": "code",
   "execution_count": 7,
   "metadata": {},
   "outputs": [],
   "source": [
    "import mysql.connector\n",
    "dbms = mysql.connector.connect(host=\"localhost\",user=\"root\",password=\"8810511426\")\n",
    "my_cursor = dbms.cursor()\n",
    "my_cursor.execute(\"TRUNCATE TABLE test.items\")\n",
    "dbms.close()"
   ]
  },
  {
   "cell_type": "markdown",
   "metadata": {},
   "source": [
    "**Q3. What is DML? Explain INSERT, UPDATE, and DELETE with an example.**\n",
    "\n",
    "DML (Data Manipulation Language) is a subset of SQL (Structured Query Language) that deals with the manipulation of data stored in a database. DML commands are used to insert, update, and delete data within database tables. \n",
    "\n",
    "- The INSERT command is used to add new rows or records to a database table.\n",
    "- The UPDATE command is used to modify existing data within a database table.\n",
    "- The DELETE command is used to remove one or more rows from a database table based on a specified condition. "
   ]
  },
  {
   "cell_type": "code",
   "execution_count": 2,
   "metadata": {},
   "outputs": [
    {
     "name": "stdout",
     "output_type": "stream",
     "text": [
      "<mysql.connector.connection_cext.CMySQLConnection object at 0x108864710>\n"
     ]
    }
   ],
   "source": [
    "import mysql.connector\n",
    "\n",
    "dbms = mysql.connector.connect(host=\"localhost\",user=\"root\",password=\"8810511426\")\n",
    "print(dbms)\n",
    "\n",
    "my_cursour = dbms.cursor()\n",
    "my_cursour.execute(\"INSERT INTO test.items values(20,'Sriya',10.5,6,'9958990873')\")\n",
    "my_cursour.execute(\"INSERT INTO test.items values(30,'Utsi',6,10,'9868122961')\")\n",
    "my_cursour.execute(\"INSERT INTO test.items values(40,'Edwin',19.2,100,'8810511426')\")\n",
    "my_cursour.execute(\"INSERT INTO test.items values(50,'Arya',5.60,88,'9447034552')\")\n",
    "my_cursour.execute(\"INSERT INTO test.items values(60,'Abhirami',10.22,11,'9495934552')\")\n",
    "my_cursour.execute(\"INSERT INTO test.items values(70,'Ancy',8.32,56,'9810804722')\")\n",
    "dbms.commit()\n",
    "dbms.close()"
   ]
  },
  {
   "cell_type": "code",
   "execution_count": 3,
   "metadata": {},
   "outputs": [
    {
     "name": "stdout",
     "output_type": "stream",
     "text": [
      "<mysql.connector.connection_cext.CMySQLConnection object at 0x1089b36d0>\n"
     ]
    }
   ],
   "source": [
    "import mysql.connector\n",
    "\n",
    "dbms = mysql.connector.connect(host=\"localhost\",user=\"root\",password=\"8810511426\")\n",
    "print(dbms)\n",
    "\n",
    "my_cursour = dbms.cursor()\n",
    "my_cursour.execute(\"UPDATE test.items SET c2 = 'Utsmay' WHERE c1 = 30\")\n",
    "dbms.commit()\n",
    "dbms.close()"
   ]
  },
  {
   "cell_type": "code",
   "execution_count": 4,
   "metadata": {},
   "outputs": [
    {
     "name": "stdout",
     "output_type": "stream",
     "text": [
      "<mysql.connector.connection_cext.CMySQLConnection object at 0x1089c4ad0>\n"
     ]
    }
   ],
   "source": [
    "import mysql.connector\n",
    "\n",
    "dbms = mysql.connector.connect(host=\"localhost\",user=\"root\",password=\"8810511426\")\n",
    "print(dbms)\n",
    "\n",
    "my_cursour = dbms.cursor()\n",
    "my_cursour.execute(\"DELETE FROM test.items WHERE c1 = 70\")\n",
    "dbms.commit()\n",
    "dbms.close()"
   ]
  },
  {
   "cell_type": "markdown",
   "metadata": {},
   "source": [
    "**Q4. What is DQL? Explain SELECT with an example.**\n",
    "\n",
    "DQL (Data Query Language) is a subset of SQL (Structured Query Language) that is used to retrieve or query data from a database. The primary DQL command is SELECT, which allows you to specify the data you want to retrieve from one or more database tables. "
   ]
  },
  {
   "cell_type": "code",
   "execution_count": 7,
   "metadata": {},
   "outputs": [
    {
     "name": "stdout",
     "output_type": "stream",
     "text": [
      "<mysql.connector.connection_cext.CMySQLConnection object at 0x10b648990>\n",
      "(20, 'Sriya', 10.5, 6, '9958990873')\n",
      "(30, 'Utsmay', 6.0, 10, '9868122961')\n",
      "(40, 'Edwin', 19.2, 100, '8810511426')\n",
      "(50, 'Arya', 5.6, 88, '9447034552')\n",
      "(60, 'Abhirami', 10.22, 11, '9495934552')\n"
     ]
    }
   ],
   "source": [
    "import mysql.connector\n",
    "\n",
    "dbms = mysql.connector.connect(host=\"localhost\",user=\"root\",password=\"8810511426\")\n",
    "print(dbms)\n",
    "\n",
    "my_cursour = dbms.cursor()\n",
    "my_cursour.execute(\"SELECT * FROM test.items\")\n",
    "for i in my_cursour.fetchall():\n",
    "    print(i)\n",
    "dbms.close()"
   ]
  },
  {
   "cell_type": "markdown",
   "metadata": {},
   "source": [
    "**Q5. Explain Primary Key and Foreign Key.**\n",
    "\n",
    "A primary key is a special type of constraint in a relational database that uniquely identifies each record or row in a table. It serves as a unique identifier and ensures that there are no duplicate values in the column(s) designated as the primary key.\n",
    "\n",
    "A foreign key is a database constraint that establishes a link between two tables in a relational database by enforcing referential integrity. It ensures that values in one table's column(s) match the values in another table's primary key column(s). "
   ]
  },
  {
   "cell_type": "markdown",
   "metadata": {},
   "source": [
    "**Q6. Write a python code to connect MySQL to python. Explain the cursor() and execute() method.**"
   ]
  },
  {
   "cell_type": "code",
   "execution_count": 8,
   "metadata": {},
   "outputs": [
    {
     "name": "stdout",
     "output_type": "stream",
     "text": [
      "<mysql.connector.connection_cext.CMySQLConnection object at 0x10b62fe90>\n",
      "(20, 'Sriya', 10.5, 6, '9958990873')\n",
      "(30, 'Utsmay', 6.0, 10, '9868122961')\n",
      "(40, 'Edwin', 19.2, 100, '8810511426')\n",
      "(50, 'Arya', 5.6, 88, '9447034552')\n",
      "(60, 'Abhirami', 10.22, 11, '9495934552')\n"
     ]
    }
   ],
   "source": [
    "import mysql.connector\n",
    "\n",
    "dbms = mysql.connector.connect(host=\"localhost\",user=\"root\",password=\"8810511426\")\n",
    "print(dbms)\n",
    "\n",
    "my_cursour = dbms.cursor()\n",
    "my_cursour.execute(\"SELECT * FROM test.items\")\n",
    "for i in my_cursour.fetchall():\n",
    "    print(i)\n",
    "dbms.close()"
   ]
  },
  {
   "cell_type": "markdown",
   "metadata": {},
   "source": [
    "**Q7. Give the order of execution of SQL clauses in an SQL query.**\n",
    "\n",
    "- FROM: The FROM clause specifies the tables from which you are retrieving data. It identifies the source tables for the query.\n",
    "\n",
    "- JOIN: If your query involves multiple tables and requires joining them together, the JOIN clause is used to specify the conditions for combining the data from different tables.\n",
    "\n",
    "- WHERE: The WHERE clause filters the rows from the tables based on specified conditions. It narrows down the data that will be included in the result set.\n",
    "\n",
    "- GROUP BY: If you want to perform aggregate functions like SUM, COUNT, AVG, etc., and group the results based on one or more columns, you use the GROUP BY clause. This clause groups rows with similar values in specified columns.\n",
    "\n",
    "- HAVING: The HAVING clause is used in conjunction with GROUP BY to filter the grouped results based on conditions. It's similar to the WHERE clause but applies to the aggregated groups rather than individual rows.\n",
    "\n",
    "- SELECT: The SELECT clause specifies which columns you want to include in the result set. It also allows you to perform calculations, transformations, and aliases on the selected columns.\n",
    "\n",
    "- DISTINCT: The DISTINCT keyword, if used, filters duplicate rows from the result set based on the selected columns. It ensures that only unique rows are included.\n",
    "\n",
    "- ORDER BY: The ORDER BY clause is used to sort the result set based on one or more columns. You can specify ascending (ASC) or descending (DESC) order for each column.\n",
    "\n",
    "- LIMIT/OFFSET (or FETCH FIRST): If you want to limit the number of rows returned or implement pagination, you can use the LIMIT/OFFSET (or FETCH FIRST) clause. It specifies how many rows to retrieve and from which starting point.\n",
    "\n",
    "- UNION/INTERSECT/EXCEPT (Optional): If you need to combine the results of multiple SELECT statements, you can use these set operations. They are typically used after the individual SELECT queries and before LIMIT/OFFSET.\n",
    "\n",
    "- FETCH: If your database supports window functions and you want to perform operations like fetching a range of rows, you can use the FETCH clause. It is typically used after the ORDER BY clause.\n",
    "\n",
    "- FOR UPDATE (Optional): If you need to lock rows for updating in a transaction, you can use the FOR UPDATE clause at the end of your query.\n"
   ]
  },
  {
   "cell_type": "markdown",
   "metadata": {},
   "source": []
  }
 ],
 "metadata": {
  "kernelspec": {
   "display_name": "Python 3",
   "language": "python",
   "name": "python3"
  },
  "language_info": {
   "codemirror_mode": {
    "name": "ipython",
    "version": 3
   },
   "file_extension": ".py",
   "mimetype": "text/x-python",
   "name": "python",
   "nbconvert_exporter": "python",
   "pygments_lexer": "ipython3",
   "version": "3.11.4"
  },
  "orig_nbformat": 4
 },
 "nbformat": 4,
 "nbformat_minor": 2
}
