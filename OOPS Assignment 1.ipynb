{
 "cells": [
  {
   "cell_type": "markdown",
   "id": "c1bfe2a2",
   "metadata": {},
   "source": [
    "## Answer 1\n",
    "**CLASS** is basically a blueprint of an object or classification of a real world entity. A CLASS defines object properties including a valid range of values and a default value. **OBJECT** is a variable or instance of a class."
   ]
  },
  {
   "cell_type": "code",
   "execution_count": 1,
   "id": "0d4ba40c",
   "metadata": {},
   "outputs": [],
   "source": [
    "class pwskills:\n",
    "    def welcome_msg(self):\n",
    "        print('Welcome to PWSKILLS')"
   ]
  },
  {
   "cell_type": "code",
   "execution_count": 2,
   "id": "e210b320",
   "metadata": {},
   "outputs": [],
   "source": [
    "Rithul = pwskills()"
   ]
  },
  {
   "cell_type": "code",
   "execution_count": 3,
   "id": "e641a92d",
   "metadata": {},
   "outputs": [
    {
     "name": "stdout",
     "output_type": "stream",
     "text": [
      "Welcome to PWSKILLS\n"
     ]
    }
   ],
   "source": [
    "Rithul.welcome_msg()"
   ]
  },
  {
   "cell_type": "markdown",
   "id": "9023cc73",
   "metadata": {},
   "source": [
    "In the above case, **pwskills** is the **CLASS** and **Rithul** is the **OBJECT**."
   ]
  },
  {
   "cell_type": "markdown",
   "id": "ccc5e304",
   "metadata": {},
   "source": [
    "## Answer 2\n",
    "\n",
    "Following are the four pillars of OOPS:\n",
    "1. Polymorphism\n",
    "2. Inheritance\n",
    "3. Encapsulation\n",
    "4. Abstraction"
   ]
  },
  {
   "cell_type": "markdown",
   "id": "f9f1a47d",
   "metadata": {},
   "source": [
    "## Answer 3\n",
    "\n",
    "The __init__() function is basically a Magic or Dunder or Special Method which helps in creating an attributes in the CLASS. The __init__ method lets the class initialize the object's attributes and serves no other purpose."
   ]
  },
  {
   "cell_type": "code",
   "execution_count": 4,
   "id": "ddcc8968",
   "metadata": {},
   "outputs": [],
   "source": [
    "class data_science:\n",
    "    def __init__(self,number,email,student_id):\n",
    "        self.number = number\n",
    "        self.email = email\n",
    "        self.student_id = student_id"
   ]
  },
  {
   "cell_type": "code",
   "execution_count": 5,
   "id": "2ac2dd5f",
   "metadata": {},
   "outputs": [],
   "source": [
    "ds = data_science(8810511426,'vrithul9@gmail.com',101)"
   ]
  },
  {
   "cell_type": "code",
   "execution_count": 7,
   "id": "536ea22e",
   "metadata": {},
   "outputs": [
    {
     "data": {
      "text/plain": [
       "'vrithul9@gmail.com'"
      ]
     },
     "execution_count": 7,
     "metadata": {},
     "output_type": "execute_result"
    }
   ],
   "source": [
    "ds.email"
   ]
  },
  {
   "cell_type": "code",
   "execution_count": 8,
   "id": "1cd623e6",
   "metadata": {},
   "outputs": [
    {
     "data": {
      "text/plain": [
       "8810511426"
      ]
     },
     "execution_count": 8,
     "metadata": {},
     "output_type": "execute_result"
    }
   ],
   "source": [
    "ds.number"
   ]
  },
  {
   "cell_type": "code",
   "execution_count": 9,
   "id": "7dd531de",
   "metadata": {},
   "outputs": [
    {
     "data": {
      "text/plain": [
       "101"
      ]
     },
     "execution_count": 9,
     "metadata": {},
     "output_type": "execute_result"
    }
   ],
   "source": [
    "ds.student_id"
   ]
  },
  {
   "cell_type": "markdown",
   "id": "114b3485",
   "metadata": {},
   "source": [
    "## Answer 4\n",
    "\n",
    "**Self** represents the instance of class. This handy keyword allows you to access variables, attributes, and methods of a defined class in Python. The self parameter doesn't have to be named “self,” as you can call it by any other name."
   ]
  },
  {
   "cell_type": "markdown",
   "id": "696c766b",
   "metadata": {},
   "source": [
    "## Answer 5\n",
    "\n",
    "**Inheritance** allows us to define a class that inherits all the methods and properties from another class.\n",
    "\n",
    "There are five types of inheritances:\n",
    "1. Single Inheritance\n",
    "2. Multiple Inheritance\n",
    "3. Multi Level Inheritance\n",
    "4. Hierarchical Inheritance\n",
    "5. Hybrid Inheritance"
   ]
  },
  {
   "cell_type": "code",
   "execution_count": 10,
   "id": "5e92f4b7",
   "metadata": {},
   "outputs": [],
   "source": [
    "#Single Inheritance\n",
    "\n",
    "class Above:\n",
    "    i = 5\n",
    "    def fun1(self):\n",
    "        print('Hey there, you are in parent class')\n",
    "        \n",
    "class Below(Above):\n",
    "    i = 10\n",
    "    def fun2(self):\n",
    "        print('Hey there, you are in the child class')"
   ]
  },
  {
   "cell_type": "code",
   "execution_count": 11,
   "id": "069648c7",
   "metadata": {},
   "outputs": [],
   "source": [
    "#Multiple Inheritance\n",
    "class A:\n",
    "    demo1 = 0\n",
    "    def fun1(self):\n",
    "        print(self.demo1)\n",
    "\n",
    "class B:\n",
    "    demo2 = 0\n",
    "    def fun2(self):\n",
    "        print(self.demo2)\n",
    "        \n",
    "class C(A,B):\n",
    "    def fun3(self):\n",
    "        print('Hey there, You are in the child Class')"
   ]
  },
  {
   "cell_type": "code",
   "execution_count": 12,
   "id": "2135f710",
   "metadata": {},
   "outputs": [],
   "source": [
    "#Multi-Level Inheritance\n",
    "\n",
    "class class1:\n",
    "    def test_class1(self):\n",
    "        print('This is a method from class 1')\n",
    "\n",
    "class class2(class1):\n",
    "    def test_class2(self):\n",
    "        print('This is a method from class 2')\n",
    "\n",
    "class class3(class2):\n",
    "    pass"
   ]
  },
  {
   "cell_type": "code",
   "execution_count": 13,
   "id": "16b827ef",
   "metadata": {},
   "outputs": [],
   "source": [
    "#Hierarchical Inheritance\n",
    "\n",
    "class parent:\n",
    "    def func1(self):\n",
    "        print('This function is defined inside the parent class')\n",
    "\n",
    "class child1(parent):\n",
    "    def func2(self):\n",
    "        print('This function is defined inside the child1')\n",
    "        \n",
    "class child2(parent):\n",
    "    def func3(self):\n",
    "        print('This function is defined inside the child2')"
   ]
  },
  {
   "cell_type": "code",
   "execution_count": null,
   "id": "dadc0c74",
   "metadata": {},
   "outputs": [],
   "source": []
  }
 ],
 "metadata": {
  "kernelspec": {
   "display_name": "Python 3 (ipykernel)",
   "language": "python",
   "name": "python3"
  },
  "language_info": {
   "codemirror_mode": {
    "name": "ipython",
    "version": 3
   },
   "file_extension": ".py",
   "mimetype": "text/x-python",
   "name": "python",
   "nbconvert_exporter": "python",
   "pygments_lexer": "ipython3",
   "version": "3.9.12"
  }
 },
 "nbformat": 4,
 "nbformat_minor": 5
}
