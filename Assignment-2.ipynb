{
 "cells": [
  {
   "cell_type": "markdown",
   "id": "245c3af9",
   "metadata": {},
   "source": [
    "## Answer 1"
   ]
  },
  {
   "cell_type": "markdown",
   "id": "fdb6e88d",
   "metadata": {},
   "source": [
    "We can comment code in python using the '#' Hash symbol and extend to the end of the line. \n",
    "\n",
    "There are two types of comments that we learnt:\n",
    "\n",
    "1. Single line Comments : - Single line comments start with the \"#\" symbol. Anything put in a single line after the '#' symbol is considered a comment.\n",
    "\n",
    "2. Multi line comments : - To do this, use either a ‘’ or “” quotation marks three times and in between write the comments you want."
   ]
  },
  {
   "cell_type": "markdown",
   "id": "1cd8a73e",
   "metadata": {},
   "source": [
    "## Answer 2"
   ]
  },
  {
   "cell_type": "markdown",
   "id": "75206e64",
   "metadata": {},
   "source": [
    "Variables in python are used to denote objects by that name.\n",
    "For Example: "
   ]
  },
  {
   "cell_type": "code",
   "execution_count": 1,
   "id": "5342f3c9",
   "metadata": {},
   "outputs": [
    {
     "name": "stdout",
     "output_type": "stream",
     "text": [
      "Rithul\n"
     ]
    }
   ],
   "source": [
    "Name = 'Rithul'\n",
    "print(Name)"
   ]
  },
  {
   "cell_type": "markdown",
   "id": "390b31a6",
   "metadata": {},
   "source": [
    "We declare and assign variables by using '=' assignment operator. Then when we execute the variable name then the value assigned to it gets executed.\n",
    "Here Name is the variable for the string object 'Rithul'"
   ]
  },
  {
   "cell_type": "markdown",
   "id": "162bb7fc",
   "metadata": {},
   "source": [
    "## Answer 3"
   ]
  },
  {
   "cell_type": "markdown",
   "id": "ef1580da",
   "metadata": {},
   "source": [
    "We can easily convert one data type to another by typecasting it. \n",
    "For Example:"
   ]
  },
  {
   "cell_type": "code",
   "execution_count": 2,
   "id": "c05a4a45",
   "metadata": {},
   "outputs": [
    {
     "data": {
      "text/plain": [
       "int"
      ]
     },
     "execution_count": 2,
     "metadata": {},
     "output_type": "execute_result"
    }
   ],
   "source": [
    "Age = 21\n",
    "type(Age)"
   ]
  },
  {
   "cell_type": "code",
   "execution_count": 3,
   "id": "aa9b037f",
   "metadata": {},
   "outputs": [
    {
     "data": {
      "text/plain": [
       "str"
      ]
     },
     "execution_count": 3,
     "metadata": {},
     "output_type": "execute_result"
    }
   ],
   "source": [
    "Age = str(Age)\n",
    "type(Age)"
   ]
  },
  {
   "cell_type": "markdown",
   "id": "4a8998aa",
   "metadata": {},
   "source": [
    "In the above example, Integer data type has been typecasted to String."
   ]
  },
  {
   "cell_type": "markdown",
   "id": "b0fddf3d",
   "metadata": {},
   "source": [
    "## Answer 4"
   ]
  },
  {
   "cell_type": "markdown",
   "id": "e6b2be0a",
   "metadata": {},
   "source": [
    "The python command is the most basic and straightforward way to run a Python script. To begin, open the command line and type python followed by the path to your script file, as shown below: \n",
    "\n",
    "python first_script.py \n",
    "Hello, I am Rithul\n",
    "\n",
    "Then you press the ENTER key on your keyboard, and that's it."
   ]
  },
  {
   "cell_type": "markdown",
   "id": "1bfb5d84",
   "metadata": {},
   "source": [
    "## Answer 5"
   ]
  },
  {
   "cell_type": "code",
   "execution_count": 4,
   "id": "9b01ed9c",
   "metadata": {},
   "outputs": [
    {
     "name": "stdout",
     "output_type": "stream",
     "text": [
      "[2, 3]\n"
     ]
    }
   ],
   "source": [
    "my_list = [1,2,3,4,5]\n",
    "sub_list = my_list[1:3]\n",
    "print(sub_list)"
   ]
  },
  {
   "cell_type": "markdown",
   "id": "ed6ad278",
   "metadata": {},
   "source": [
    "## Answer 6"
   ]
  },
  {
   "cell_type": "markdown",
   "id": "8d665d60",
   "metadata": {},
   "source": [
    "Complex numbers are those that are expressed in the form of a+ib, where 'a' and 'b' are real numbers and 'i' is an imaginary number known as \"iota.\"\n",
    "For Example:\n",
    "5+8i is a complex number, where 8 is a real number and 8i is an imaginary number."
   ]
  },
  {
   "cell_type": "markdown",
   "id": "af6d8637",
   "metadata": {},
   "source": [
    "In Python, It is represented in the form of a+bj where a nad b are the real numbers and 'j' is an imaginary number known as 'iota':"
   ]
  },
  {
   "cell_type": "code",
   "execution_count": 5,
   "id": "3f5160a4",
   "metadata": {},
   "outputs": [
    {
     "data": {
      "text/plain": [
       "complex"
      ]
     },
     "execution_count": 5,
     "metadata": {},
     "output_type": "execute_result"
    }
   ],
   "source": [
    "num = 5+8j\n",
    "type(num)"
   ]
  },
  {
   "cell_type": "markdown",
   "id": "285e4202",
   "metadata": {},
   "source": [
    "## Answer 7"
   ]
  },
  {
   "cell_type": "code",
   "execution_count": 6,
   "id": "feef62a3",
   "metadata": {},
   "outputs": [
    {
     "name": "stdout",
     "output_type": "stream",
     "text": [
      "25\n"
     ]
    }
   ],
   "source": [
    "age = 25\n",
    "print(age)"
   ]
  },
  {
   "cell_type": "markdown",
   "id": "145a624e",
   "metadata": {},
   "source": [
    "## Answer 8"
   ]
  },
  {
   "cell_type": "code",
   "execution_count": 7,
   "id": "a2dfe3cf",
   "metadata": {},
   "outputs": [
    {
     "data": {
      "text/plain": [
       "float"
      ]
     },
     "execution_count": 7,
     "metadata": {},
     "output_type": "execute_result"
    }
   ],
   "source": [
    "price = 9.99\n",
    "type(price)"
   ]
  },
  {
   "cell_type": "markdown",
   "id": "a8348fe1",
   "metadata": {},
   "source": [
    "The data type of the above variable is \"Float\"."
   ]
  },
  {
   "cell_type": "markdown",
   "id": "77b87170",
   "metadata": {},
   "source": [
    "## Answer 9\n"
   ]
  },
  {
   "cell_type": "code",
   "execution_count": 8,
   "id": "6308b2b1",
   "metadata": {},
   "outputs": [
    {
     "name": "stdout",
     "output_type": "stream",
     "text": [
      "V Rithul\n"
     ]
    }
   ],
   "source": [
    "name = 'V Rithul'\n",
    "print(name)"
   ]
  },
  {
   "cell_type": "markdown",
   "id": "e366409f",
   "metadata": {},
   "source": [
    "## Answer 10"
   ]
  },
  {
   "cell_type": "code",
   "execution_count": 9,
   "id": "4c928956",
   "metadata": {},
   "outputs": [
    {
     "name": "stdout",
     "output_type": "stream",
     "text": [
      "World\n"
     ]
    }
   ],
   "source": [
    "line = 'Hello, World!'\n",
    "substring = line[7:12]\n",
    "print(substring)"
   ]
  },
  {
   "cell_type": "markdown",
   "id": "2d211b4b",
   "metadata": {},
   "source": [
    "## Answer 11"
   ]
  },
  {
   "cell_type": "code",
   "execution_count": 10,
   "id": "98ca6b86",
   "metadata": {},
   "outputs": [
    {
     "data": {
      "text/plain": [
       "bool"
      ]
     },
     "execution_count": 10,
     "metadata": {},
     "output_type": "execute_result"
    }
   ],
   "source": [
    "is_student = True\n",
    "type(is_student)"
   ]
  },
  {
   "cell_type": "code",
   "execution_count": null,
   "id": "e625c090",
   "metadata": {},
   "outputs": [],
   "source": []
  }
 ],
 "metadata": {
  "kernelspec": {
   "display_name": "Python 3 (ipykernel)",
   "language": "python",
   "name": "python3"
  },
  "language_info": {
   "codemirror_mode": {
    "name": "ipython",
    "version": 3
   },
   "file_extension": ".py",
   "mimetype": "text/x-python",
   "name": "python",
   "nbconvert_exporter": "python",
   "pygments_lexer": "ipython3",
   "version": "3.9.12"
  }
 },
 "nbformat": 4,
 "nbformat_minor": 5
}
