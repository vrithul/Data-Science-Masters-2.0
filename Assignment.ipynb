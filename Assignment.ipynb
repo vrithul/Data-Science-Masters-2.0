{
 "cells": [
  {
   "cell_type": "code",
   "execution_count": 1,
   "id": "c1cdfa65-0d95-498f-b1e3-2f448eb5c4cb",
   "metadata": {},
   "outputs": [],
   "source": [
    "import numpy as np"
   ]
  },
  {
   "cell_type": "markdown",
   "id": "83d209d3-0dcd-475c-a1ce-f70e6028039e",
   "metadata": {},
   "source": [
    "## Question 1\n",
    "\n",
    "Yes, there is a difference in the data type of both the variables. One is a list whereas another one is a numpy n-dimensional array."
   ]
  },
  {
   "cell_type": "code",
   "execution_count": 3,
   "id": "3dec115a-5b75-4a0d-aab7-0371acccef4a",
   "metadata": {},
   "outputs": [
    {
     "name": "stdout",
     "output_type": "stream",
     "text": [
      "<class 'list'>\n",
      "<class 'numpy.ndarray'>\n"
     ]
    }
   ],
   "source": [
    "list_ = ['1','2','3','4','5']\n",
    "array_list = np.array(object=list_)\n",
    "\n",
    "print(type(list_))\n",
    "print(type(array_list))"
   ]
  },
  {
   "cell_type": "markdown",
   "id": "c7389627-a060-4c3c-98c1-3bd604b5c5b0",
   "metadata": {},
   "source": [
    "## Question 2"
   ]
  },
  {
   "cell_type": "code",
   "execution_count": 4,
   "id": "fd1011ef-5ed1-48e6-bcff-bdd98a8296d5",
   "metadata": {},
   "outputs": [
    {
     "name": "stdout",
     "output_type": "stream",
     "text": [
      "<class 'str'>\n",
      "<class 'str'>\n",
      "<class 'str'>\n",
      "<class 'str'>\n",
      "<class 'str'>\n"
     ]
    }
   ],
   "source": [
    "for i in list_:\n",
    "    print(type(i))"
   ]
  },
  {
   "cell_type": "code",
   "execution_count": 5,
   "id": "762ca857-8b47-4c65-a736-179504fd2a00",
   "metadata": {},
   "outputs": [
    {
     "data": {
      "text/plain": [
       "dtype('<U1')"
      ]
     },
     "execution_count": 5,
     "metadata": {},
     "output_type": "execute_result"
    }
   ],
   "source": [
    "array_list.dtype"
   ]
  },
  {
   "cell_type": "markdown",
   "id": "d445fa0f-c2bd-4469-b288-e2592faa8e6d",
   "metadata": {},
   "source": [
    "## Question 3\n",
    "\n",
    "Yes, there is a difference in the datatype of the elements present in both the variables. One is String and another one is Integer."
   ]
  },
  {
   "cell_type": "code",
   "execution_count": 6,
   "id": "905fa69a-3f3b-4204-ada3-a930e56c81a1",
   "metadata": {},
   "outputs": [
    {
     "data": {
      "text/plain": [
       "dtype('int64')"
      ]
     },
     "execution_count": 6,
     "metadata": {},
     "output_type": "execute_result"
    }
   ],
   "source": [
    "array_list = np.array(object=list_,dtype=int)\n",
    "array_list.dtype"
   ]
  },
  {
   "cell_type": "code",
   "execution_count": 7,
   "id": "16c40bb5-8283-4193-8411-72666c7cc2ef",
   "metadata": {},
   "outputs": [
    {
     "data": {
      "text/plain": [
       "array([1, 2, 3, 4, 5])"
      ]
     },
     "execution_count": 7,
     "metadata": {},
     "output_type": "execute_result"
    }
   ],
   "source": [
    "array_list"
   ]
  },
  {
   "cell_type": "code",
   "execution_count": 9,
   "id": "215288a1-b8c0-4fb3-b94a-d520ec900f78",
   "metadata": {},
   "outputs": [
    {
     "name": "stdout",
     "output_type": "stream",
     "text": [
      "<class 'str'>\n",
      "<class 'str'>\n",
      "<class 'str'>\n",
      "<class 'str'>\n",
      "<class 'str'>\n"
     ]
    }
   ],
   "source": [
    "for i in list_:\n",
    "    print(type(i))"
   ]
  },
  {
   "cell_type": "code",
   "execution_count": 10,
   "id": "143bcfbd-cb4e-4ab4-9d41-75337a57777c",
   "metadata": {},
   "outputs": [
    {
     "data": {
      "text/plain": [
       "['1', '2', '3', '4', '5']"
      ]
     },
     "execution_count": 10,
     "metadata": {},
     "output_type": "execute_result"
    }
   ],
   "source": [
    "list_"
   ]
  },
  {
   "cell_type": "markdown",
   "id": "0e94f5cf-2357-49d8-8407-3e81d0243cf5",
   "metadata": {},
   "source": [
    "## Question 4\n",
    "\n",
    "shape = Tells us the number of rows and columns in the array.\n",
    "\n",
    "size = Tells us the total number of elements present in the array."
   ]
  },
  {
   "cell_type": "code",
   "execution_count": 11,
   "id": "7e99725b-1b5f-46f9-84a5-b8b46faf27ca",
   "metadata": {},
   "outputs": [],
   "source": [
    "num_list = [[1,2,3],[4,5,6]]\n",
    "num_array = np.array(object=num_list)"
   ]
  },
  {
   "cell_type": "code",
   "execution_count": 12,
   "id": "01669ad1-53e5-4170-bee3-f553c79bae60",
   "metadata": {},
   "outputs": [
    {
     "data": {
      "text/plain": [
       "(2, 3)"
      ]
     },
     "execution_count": 12,
     "metadata": {},
     "output_type": "execute_result"
    }
   ],
   "source": [
    "num_array.shape"
   ]
  },
  {
   "cell_type": "code",
   "execution_count": 13,
   "id": "1ca3b67a-e68a-492a-ab9c-07db7ac02599",
   "metadata": {},
   "outputs": [
    {
     "data": {
      "text/plain": [
       "6"
      ]
     },
     "execution_count": 13,
     "metadata": {},
     "output_type": "execute_result"
    }
   ],
   "source": [
    "num_array.size"
   ]
  },
  {
   "cell_type": "markdown",
   "id": "358e7583-243f-4030-8724-c918fb254485",
   "metadata": {},
   "source": [
    "## Question 5"
   ]
  },
  {
   "cell_type": "code",
   "execution_count": 14,
   "id": "bc260117-d909-4abd-8659-a0d26feb83fa",
   "metadata": {},
   "outputs": [
    {
     "data": {
      "text/plain": [
       "array([[0., 0., 0.],\n",
       "       [0., 0., 0.],\n",
       "       [0., 0., 0.]])"
      ]
     },
     "execution_count": 14,
     "metadata": {},
     "output_type": "execute_result"
    }
   ],
   "source": [
    "data = np.zeros((3,3))\n",
    "data"
   ]
  },
  {
   "cell_type": "markdown",
   "id": "106a6f00-30bc-41c0-bba8-754fd2e4b1f9",
   "metadata": {},
   "source": [
    "## Question 6"
   ]
  },
  {
   "cell_type": "code",
   "execution_count": 15,
   "id": "fc351718-078b-4dd5-a2f5-c50b98f19e7f",
   "metadata": {},
   "outputs": [
    {
     "data": {
      "text/plain": [
       "array([[1., 0., 0., 0., 0.],\n",
       "       [0., 1., 0., 0., 0.],\n",
       "       [0., 0., 1., 0., 0.],\n",
       "       [0., 0., 0., 1., 0.],\n",
       "       [0., 0., 0., 0., 1.]])"
      ]
     },
     "execution_count": 15,
     "metadata": {},
     "output_type": "execute_result"
    }
   ],
   "source": [
    "data1 = np.eye(5,5)\n",
    "data1"
   ]
  }
 ],
 "metadata": {
  "kernelspec": {
   "display_name": "Python 3 (ipykernel)",
   "language": "python",
   "name": "python3"
  },
  "language_info": {
   "codemirror_mode": {
    "name": "ipython",
    "version": 3
   },
   "file_extension": ".py",
   "mimetype": "text/x-python",
   "name": "python",
   "nbconvert_exporter": "python",
   "pygments_lexer": "ipython3",
   "version": "3.11.5"
  }
 },
 "nbformat": 4,
 "nbformat_minor": 5
}
