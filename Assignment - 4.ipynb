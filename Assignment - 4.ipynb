{
 "cells": [
  {
   "cell_type": "markdown",
   "id": "6ff49238",
   "metadata": {},
   "source": [
    "## Answer 1"
   ]
  },
  {
   "cell_type": "code",
   "execution_count": 1,
   "id": "28fdc208",
   "metadata": {},
   "outputs": [
    {
     "name": "stdout",
     "output_type": "stream",
     "text": [
      "[('Virat Kohli', 24936), ('Jack Kallis', 25534), ('Ricky Ponting', 27483), ('Sachin Tendulkar', 34357)]\n"
     ]
    }
   ],
   "source": [
    "lists=[('Sachin Tendulkar',34357),('Ricky Ponting',27483),('Jack Kallis',25534),('Virat Kohli',24936)]\n",
    "lists.sort(key=lambda x:x[1])\n",
    "print(lists)"
   ]
  },
  {
   "cell_type": "markdown",
   "id": "b0b5fd93",
   "metadata": {},
   "source": [
    "## Answer 2"
   ]
  },
  {
   "cell_type": "code",
   "execution_count": 2,
   "id": "4fb25a6f",
   "metadata": {},
   "outputs": [
    {
     "name": "stdout",
     "output_type": "stream",
     "text": [
      "[1, 4, 9, 16, 25, 36, 49, 64, 81, 100]\n"
     ]
    }
   ],
   "source": [
    "list1 = [1,2,3,4,5,6,7,8,9,10]\n",
    "print(list(map(lambda x:x**2,list1)))"
   ]
  },
  {
   "cell_type": "markdown",
   "id": "c7524ac9",
   "metadata": {},
   "source": [
    "## Answer 3"
   ]
  },
  {
   "cell_type": "code",
   "execution_count": 3,
   "id": "087a70b7",
   "metadata": {},
   "outputs": [
    {
     "name": "stdout",
     "output_type": "stream",
     "text": [
      "('1', '2', '3', '4', '5', '6', '7', '8', '9', '10')\n"
     ]
    }
   ],
   "source": [
    "list2 = [1,2,3,4,5,6,7,8,9,10]\n",
    "tuple_list = tuple(map(lambda x: str(x),list2))\n",
    "print(tuple_list)"
   ]
  },
  {
   "cell_type": "markdown",
   "id": "ecf36b7b",
   "metadata": {},
   "source": [
    "## Answer 4"
   ]
  },
  {
   "cell_type": "code",
   "execution_count": 4,
   "id": "f9d6d456",
   "metadata": {},
   "outputs": [
    {
     "name": "stdout",
     "output_type": "stream",
     "text": [
      "15511210043330985984000000\n"
     ]
    }
   ],
   "source": [
    "from functools import reduce\n",
    "list3 = list(range(1,26))\n",
    "print(reduce(lambda x,y:x*y,list3))"
   ]
  },
  {
   "cell_type": "markdown",
   "id": "2acaa910",
   "metadata": {},
   "source": [
    "## Answer 5"
   ]
  },
  {
   "cell_type": "code",
   "execution_count": 5,
   "id": "f7d13b12",
   "metadata": {},
   "outputs": [
    {
     "name": "stdout",
     "output_type": "stream",
     "text": [
      "[6, 60, 90, 120]\n"
     ]
    }
   ],
   "source": [
    "list4 = [2,3,6,9,27,60,90,120,55,46]\n",
    "print(list(filter(lambda x:x%2 == 0 and x%3 == 0,list4)))"
   ]
  },
  {
   "cell_type": "markdown",
   "id": "25aba883",
   "metadata": {},
   "source": [
    "## Answer 6"
   ]
  },
  {
   "cell_type": "code",
   "execution_count": 6,
   "id": "e054a2d5",
   "metadata": {},
   "outputs": [
    {
     "name": "stdout",
     "output_type": "stream",
     "text": [
      "['php', 'aba', 'radar', 'level']\n"
     ]
    }
   ],
   "source": [
    "list5 = ['python','php','aba','radar','level']\n",
    "print(list(filter(lambda x:x[::-1]==x,list5)))"
   ]
  },
  {
   "cell_type": "code",
   "execution_count": null,
   "id": "c937ab61",
   "metadata": {},
   "outputs": [],
   "source": []
  }
 ],
 "metadata": {
  "kernelspec": {
   "display_name": "Python 3 (ipykernel)",
   "language": "python",
   "name": "python3"
  },
  "language_info": {
   "codemirror_mode": {
    "name": "ipython",
    "version": 3
   },
   "file_extension": ".py",
   "mimetype": "text/x-python",
   "name": "python",
   "nbconvert_exporter": "python",
   "pygments_lexer": "ipython3",
   "version": "3.9.12"
  }
 },
 "nbformat": 4,
 "nbformat_minor": 5
}
