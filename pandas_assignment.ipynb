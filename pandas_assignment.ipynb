{
 "cells": [
  {
   "cell_type": "markdown",
   "metadata": {},
   "source": [
    "**Question 1**"
   ]
  },
  {
   "cell_type": "code",
   "execution_count": 2,
   "metadata": {},
   "outputs": [
    {
     "name": "stdout",
     "output_type": "stream",
     "text": [
      "0     4\n",
      "1     8\n",
      "2    15\n",
      "3    16\n",
      "4    23\n",
      "5    42\n",
      "dtype: int64\n"
     ]
    }
   ],
   "source": [
    "import pandas as pd\n",
    "a = pd.Series([4,8,15,16,23,42])\n",
    "print(a)"
   ]
  },
  {
   "cell_type": "markdown",
   "metadata": {},
   "source": [
    "**Question 2**"
   ]
  },
  {
   "cell_type": "code",
   "execution_count": 3,
   "metadata": {},
   "outputs": [
    {
     "name": "stdout",
     "output_type": "stream",
     "text": [
      "0     50\n",
      "1     42\n",
      "2     13\n",
      "3     22\n",
      "4     65\n",
      "5     88\n",
      "6    109\n",
      "7     75\n",
      "8     22\n",
      "9     13\n",
      "dtype: int64\n"
     ]
    }
   ],
   "source": [
    "lists = [50,42,13,22,65,88,109,75,22,13]\n",
    "b = pd.Series(lists)\n",
    "print(b)"
   ]
  },
  {
   "cell_type": "markdown",
   "metadata": {},
   "source": [
    "**Question 3**"
   ]
  },
  {
   "cell_type": "code",
   "execution_count": 4,
   "metadata": {},
   "outputs": [
    {
     "name": "stdout",
     "output_type": "stream",
     "text": [
      "     Name  Age  Gender\n",
      "0   Alice   25  Female\n",
      "1     Bob   30    Male\n",
      "2  Claire   27  Female\n"
     ]
    }
   ],
   "source": [
    "data = {\n",
    "    'Name':['Alice','Bob','Claire'],\n",
    "    'Age':[25,30,27],\n",
    "    'Gender':['Female','Male','Female']\n",
    "}\n",
    "dataset = pd.DataFrame(data)\n",
    "print(dataset)"
   ]
  },
  {
   "cell_type": "markdown",
   "metadata": {},
   "source": [
    "**Question 4**\n",
    "\n",
    "DataFrame is like a multiple dimensional array in which there are multiple columns which is presented in a tabular format. But in case of pandas.Series is that it only takes a single array or list. \n",
    "\n",
    "For Example:\n",
    "\n",
    "There are 3 columns in a table, where it is known as a dataframe but when a single column is filtered out then that is known as a Series. "
   ]
  },
  {
   "cell_type": "markdown",
   "metadata": {},
   "source": [
    "**Question 5**\n",
    "\n",
    "Thr ar many functions that we can use to manipulate data in a Pandas Dataframe and that is df['column_name'] or df[['column1', 'column2']]: Select one or multiple columns from the DataFrame.\n",
    "\n",
    "Apart from there, are many more functions. \n"
   ]
  },
  {
   "cell_type": "markdown",
   "metadata": {},
   "source": [
    "**Question 6**\n",
    "\n",
    "In Pandas, the Series and DataFrame are mutable, while the Panel is no longer actively supported as of Pandas version 0.25.0 (July 2019) and is considered deprecated. Therefore, you should primarily work with Series and DataFrames when using Pandas for data manipulation."
   ]
  },
  {
   "cell_type": "markdown",
   "metadata": {},
   "source": [
    "**Queston 7**\n",
    "\n",
    "In this example, we create two Series, series1 and series2, and then create a DataFrame df by passing a dictionary where the keys are the column names and the values are the Series you want to include in the DataFrame. The resulting DataFrame will have two columns, 'Column1' and 'Column2', with the data from the respective Series, and the index of the DataFrame will be the default integer index."
   ]
  },
  {
   "cell_type": "code",
   "execution_count": 5,
   "metadata": {},
   "outputs": [
    {
     "name": "stdout",
     "output_type": "stream",
     "text": [
      "   Column1 Column2\n",
      "0        1       A\n",
      "1        2       B\n",
      "2        3       C\n",
      "3        4       D\n"
     ]
    }
   ],
   "source": [
    "\n",
    "series1 = pd.Series([1, 2, 3, 4], name='Column1')\n",
    "series2 = pd.Series(['A', 'B', 'C', 'D'], name='Column2')\n",
    "\n",
    "df = pd.DataFrame({'Column1': series1, 'Column2': series2})\n",
    "\n",
    "print(df)\n"
   ]
  },
  {
   "cell_type": "code",
   "execution_count": null,
   "metadata": {},
   "outputs": [],
   "source": []
  }
 ],
 "metadata": {
  "kernelspec": {
   "display_name": "Python 3",
   "language": "python",
   "name": "python3"
  },
  "language_info": {
   "codemirror_mode": {
    "name": "ipython",
    "version": 3
   },
   "file_extension": ".py",
   "mimetype": "text/x-python",
   "name": "python",
   "nbconvert_exporter": "python",
   "pygments_lexer": "ipython3",
   "version": "3.11.4"
  },
  "orig_nbformat": 4
 },
 "nbformat": 4,
 "nbformat_minor": 2
}
