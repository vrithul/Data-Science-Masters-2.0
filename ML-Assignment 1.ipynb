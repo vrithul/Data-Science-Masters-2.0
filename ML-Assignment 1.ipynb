{
 "cells": [
  {
   "cell_type": "markdown",
   "id": "1e416b4f",
   "metadata": {},
   "source": [
    "## Question 1 \n",
    "\n",
    "1. Artificial Intelligence: - Smart Application that can perform its own taask without any human intervention. Example; Self Driving Cars, Robots, Alexa, etc. \n",
    "\n",
    "2. Machine Learning: - It is a subset of Artificial Intelligence which provides statistical tools to analyze, visualize, predict models and forecast. Example; Recommendation system in Netflix and Amazon.\n",
    "\n",
    "3. Deep Learning: - It is a subset of Machine Learning which mimics the human brain. We use multi layered neural network in this. Example; Image Recognition, Object Detection, Chatbots, etc."
   ]
  },
  {
   "cell_type": "markdown",
   "id": "d355e88f",
   "metadata": {},
   "source": [
    "## Question 2 \n",
    "\n",
    "Supervised learning is a paradigm in machine learning where input objects and a desired output value train a model.\n",
    "\n",
    "Examples:\n",
    "\n",
    "**Email Filtering**\n",
    "Supervised learning is commonly used in email filtering to classify incoming emails as spam or legitimate.\n",
    "\n",
    "**Credit Scoring**\n",
    "In credit scoring, supervised learning is used to predict the creditworthiness of loan applicants. "
   ]
  },
  {
   "cell_type": "markdown",
   "id": "a35b8a0a",
   "metadata": {},
   "source": [
    "## Question 3 \n",
    "\n",
    "Unsupervised learning is a machine learning technique in which models are not supervised using training dataset. Instead, models itself find the hidden patterns and insights from the given data. It can be compared to learning which takes place in the human brain while learning new things. \n",
    "\n",
    "Examples:\n",
    "\n",
    "**Organize computing clusters** − The geographic areas of servers is determined on the basis of clustering of web requests received from a specific area of the world. The local server will include only the data frequently created by people of that region.\n",
    "\n",
    "**Social network analysis** − Social network analysis is conducted to make clusters of friends depends on the frequency of connection between them. Such analysis reveals the links between the users of some social networking website.\n",
    "\n",
    "**Market segmentation** − Sales organizations can cluster or group their users into multiple segments on the basis of their prior billed items. For instance, a big superstore can required to send an SMS about grocery elements specifically to its users of grocery rather than sending that SMS to all its users."
   ]
  },
  {
   "cell_type": "markdown",
   "id": "efa0c3b8",
   "metadata": {},
   "source": [
    "## Question 4 \n",
    "\n",
    "1. Artificial Intelligence: - Smart Application that can perform its own taask without any human intervention. Example; Self Driving Cars, Robots, Alexa, etc. \n",
    "\n",
    "2. Machine Learning: - It is a subset of Artificial Intelligence which provides statistical tools to analyze, visualize, predict models and forecast. Example; Recommendation system in Netflix and Amazon.\n",
    "\n",
    "3. Deep Learning: - It is a subset of Machine Learning which mimics the human brain. We use multi layered neural network in this. Example; Image Recognition, Object Detection, Chatbots, etc.\n",
    "\n",
    "4. Data Science: - It is a part of AI,ML and DL. We use statistics, linear algebra, calculus and Probability. "
   ]
  },
  {
   "cell_type": "markdown",
   "id": "ee46f2be",
   "metadata": {},
   "source": [
    "## Question 5 \n",
    "\n",
    "#### Supervised learning is a paradigm in machine learning where input objects and a desired output value train a model.\n",
    "\n",
    "Examples:\n",
    "\n",
    "**Email Filtering**\n",
    "Supervised learning is commonly used in email filtering to classify incoming emails as spam or legitimate.\n",
    "\n",
    "**Credit Scoring**\n",
    "In credit scoring, supervised learning is used to predict the creditworthiness of loan applicants. \n",
    "\n",
    "#### Unsupervised learning is a machine learning technique in which models are not supervised using training dataset. Instead, models itself find the hidden patterns and insights from the given data. It can be compared to learning which takes place in the human brain while learning new things. \n",
    "\n",
    "Examples:\n",
    "\n",
    "**Organize computing clusters** − The geographic areas of servers is determined on the basis of clustering of web requests received from a specific area of the world. The local server will include only the data frequently created by people of that region.\n",
    "\n",
    "**Social network analysis** − Social network analysis is conducted to make clusters of friends depends on the frequency of connection between them. Such analysis reveals the links between the users of some social networking website.\n",
    "\n",
    "**Market segmentation** − Sales organizations can cluster or group their users into multiple segments on the basis of their prior billed items. For instance, a big superstore can required to send an SMS about grocery elements specifically to its users of grocery rather than sending that SMS to all its users.\n",
    "\n",
    "#### Semi-supervised learning (SSL) is a machine learning technique that uses a small portion of labeled data and lots of unlabeled data to train a predictive model.\n",
    "\n",
    "Examples:\n",
    "\n",
    "**Text classification:** In text classification, the goal is to classify a given text into one or more predefined categories. Semi-supervised learning can be used to train a text classification model using a small amount of labeled data and a large amount of unlabeled text data.\n",
    "\n",
    "**Image classification:** In image classification, the goal is to classify a given image into one or more predefined categories. Semi-supervised learning can be used to train an image classification model using a small amount of labeled data and a large amount of unlabeled image data.\n",
    "\n",
    "**Anomaly detection:** In anomaly detection, the goal is to detect patterns or observations that are unusual or different from the norm"
   ]
  },
  {
   "cell_type": "markdown",
   "id": "5de02f6c",
   "metadata": {},
   "source": [
    "## Question 6 \n",
    "\n",
    "In machine learning, the dataset is typically divided into three subsets: training set, validation set, and test set. Here's an explanation of each:\n",
    "\n",
    "1. Training Set: This is the portion of the dataset used to train the machine learning model. The model learns from the patterns in this data and adjusts its parameters accordingly. The larger and more diverse the training set, the better the model can potentially learn the underlying patterns in the data. The training set is crucial because it directly affects the performance and generalization ability of the model.\n",
    "\n",
    "2. Validation Set: After training the model on the training set, it's essential to evaluate its performance on data that it hasn't seen before. The validation set is used for this purpose. The model's performance on the validation set helps in tuning hyperparameters and assessing the model's generalization ability. By adjusting hyperparameters based on validation set performance, you can improve the model's performance without overfitting to the training data.\n",
    "\n",
    "3. Test Set: Once the model is trained and fine-tuned using the training and validation sets, its performance needs to be evaluated on completely unseen data to assess its true generalization ability. The test set is used for this purpose. It serves as an unbiased estimate of the model's performance on new, unseen data. It's crucial to keep the test set separate from the training and validation sets to avoid any data leakage and ensure an unbiased evaluation."
   ]
  },
  {
   "cell_type": "markdown",
   "id": "74e0072b",
   "metadata": {},
   "source": [
    "## Question 7 \n",
    "\n",
    "Unsupervised learning is a machine learning technique in which models are not supervised using training dataset. Instead, models itself find the hidden patterns and insights from the given data. It can be compared to learning which takes place in the human brain while learning new things. \n",
    "\n",
    "In anomaly detection, the goal is to detect patterns or observations that are unusual or different from the norm"
   ]
  },
  {
   "cell_type": "markdown",
   "id": "c143a0ec",
   "metadata": {},
   "source": [
    "## Question 8\n",
    "\n",
    "**Supervised Learning Algorithms:**\n",
    "\n",
    "1. Linear Regression\n",
    "2. Logistic Regression\n",
    "3. Decision Trees\n",
    "4. Random Forest\n",
    "5. Naive Bayes\n",
    "\n",
    "**Unsupervised Learning Algorithms:**\n",
    "\n",
    "1. K-means Clustering\n",
    "2. Hierarchical Clustering\n",
    "3. Principal Component Analysis (PCA)\n",
    "4. Singular Value Decomposition (SVD)\n",
    "5. Apriori Algorithm (Association Rule Learning)"
   ]
  },
  {
   "cell_type": "code",
   "execution_count": null,
   "id": "9b9a1f56",
   "metadata": {},
   "outputs": [],
   "source": []
  }
 ],
 "metadata": {
  "kernelspec": {
   "display_name": "Python 3 (ipykernel)",
   "language": "python",
   "name": "python3"
  },
  "language_info": {
   "codemirror_mode": {
    "name": "ipython",
    "version": 3
   },
   "file_extension": ".py",
   "mimetype": "text/x-python",
   "name": "python",
   "nbconvert_exporter": "python",
   "pygments_lexer": "ipython3",
   "version": "3.11.5"
  }
 },
 "nbformat": 4,
 "nbformat_minor": 5
}
