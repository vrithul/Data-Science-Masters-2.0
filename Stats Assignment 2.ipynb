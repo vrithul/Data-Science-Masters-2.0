{
 "cells": [
  {
   "cell_type": "markdown",
   "id": "0bbd271a",
   "metadata": {},
   "source": [
    "## Question 1\n",
    "\n",
    "Probability Mass Function denotes the probability that a discrete random variable will take on a particular value. \n",
    "\n",
    "Example of PMF: - Tossing a Coin.\n",
    "\n",
    "Probability Density Function denotes the probability that a continunous random variable will take on a particular value. \n",
    "\n",
    "Example of PDF: The heights of MCA students."
   ]
  },
  {
   "cell_type": "markdown",
   "id": "b539f7c5",
   "metadata": {},
   "source": [
    "## Question 2 \n",
    "\n",
    "The Cumulative Density Function (CDF) is a function that describes the probability that a continuous random variable X will be less than or equal to a certain value x, or for a discrete random variable, the probability that X will take on a value less than or equal to x.\n",
    "\n",
    "Example: Consider e Standard Six Sided Fair Dice Roll.\n",
    "\n",
    "**Uses**\n",
    "- It allows for easy calculation of probabilities for random vribles falling with certain ranges. "
   ]
  },
  {
   "cell_type": "markdown",
   "id": "b19705b2",
   "metadata": {},
   "source": [
    "## Question 3 \n",
    "\n",
    "The Normal Distribution also known as the Gaussian Distribution is widely used as a model in various fields due to its mathematical properties. Some of them are: - Physical Measurement, Biological Measurements, Finanical Data, etc.\n",
    "\n",
    "**Parameters of Normal Distribution: -**\n",
    "The mean determines the center or location of the distribution, while the standard deviation determines the spread or width of the distribution.  "
   ]
  },
  {
   "cell_type": "markdown",
   "id": "a882384b",
   "metadata": {},
   "source": [
    "## Question 4 \n",
    "\n",
    "The Normal Distribution also known as the Gaussian Distribution is widely used as a model in various fields due to its mathematicl properties. Some of them are:- Physicl Measurement, Biological Measurements, Financial Data, etc.\n",
    "\n",
    "The Normal Distribution is a powerful and versatile tool that finds applications in various fields for modeling, analysis, and inference. Its importance stems from its mathematical properties and its widespread occurrence in nature and human-made systems."
   ]
  },
  {
   "cell_type": "markdown",
   "id": "57decdd8",
   "metadata": {},
   "source": [
    "## Question 5\n",
    "\n",
    "Bernaulli Distribution is a discrete probability distribution that models a random experiment with only two possible outcomes Success and Failure. So the outcomes are Binary. \n",
    "\n",
    "Example: Tossing a Coin. \n",
    "\n",
    "The basic difference between Bernaulli and Binomial Distribution is that the number of trails in Binomial distribution will be more than the Bernaulli Distribution. For example; Tossing a coin 7 times. "
   ]
  },
  {
   "cell_type": "markdown",
   "id": "c4b089eb",
   "metadata": {},
   "source": [
    "## Question 6"
   ]
  },
  {
   "cell_type": "code",
   "execution_count": 1,
   "id": "7daa9001",
   "metadata": {},
   "outputs": [],
   "source": [
    "from scipy.stats import norm"
   ]
  },
  {
   "cell_type": "code",
   "execution_count": 2,
   "id": "36fac29b",
   "metadata": {},
   "outputs": [],
   "source": [
    "def z_score(value,mean,std):\n",
    "    z = (value-mean)/std\n",
    "    return z"
   ]
  },
  {
   "cell_type": "code",
   "execution_count": 6,
   "id": "d19a74a4",
   "metadata": {},
   "outputs": [
    {
     "name": "stdout",
     "output_type": "stream",
     "text": [
      "The probability that a randomly selected observation will be greater than 60 is 15.865525%\n"
     ]
    }
   ],
   "source": [
    "example = z_score(60,50,10)\n",
    "probability = 1 - norm.cdf(example)\n",
    "print(f\"The probability that a randomly selected observation will be greater than 60 is {probability:%}\")"
   ]
  },
  {
   "cell_type": "markdown",
   "id": "cffc6261",
   "metadata": {},
   "source": [
    "## Question 7\n",
    "\n",
    "The uniform distribution is a probability distribution in which all outcomes within a given range are equally likely. \n",
    "\n",
    "Example: Roll of a Fair Dice. "
   ]
  },
  {
   "cell_type": "markdown",
   "id": "68968878",
   "metadata": {},
   "source": [
    "## Question 8\n",
    "\n",
    "The Z-Score, also known as the standard score or Z-Value, is a measure of how many standard devitions an individual data point is from the mean of a dataset. \n",
    "\n",
    "The importance of the Z-score lies in several aspects:\n",
    "\n",
    "- Standardization: Z-scores allow for the standardization of different datasets, making it possible to compare and analyze data that are measured in different units or have different scales. By standardizing the data, we can assess how each observation compares to the mean in terms of standard deviations.\n",
    "\n",
    "- Outlier Detection: Z-scores can help identify outliers in a dataset. Observations with Z-scores that fall far from the mean (typically beyond ±2 or ±3 standard deviations) are considered potential outliers or anomalies that may warrant further investigation.\n",
    "\n",
    "- Probability Calculation: Z-scores are used in probability calculations and hypothesis testing. In the context of a normal distribution, Z-scores correspond to probabilities, which can be looked up in standard normal distribution tables or calculated using statistical software. This allows us to determine the likelihood of observing a particular value or more extreme values given the distribution.\n",
    "\n",
    "- Data Transformation: Z-scores are often used in data preprocessing and transformation techniques, such as normalization or standardization, in various statistical analyses and machine learning algorithms. Transforming data into Z-scores can help improve the interpretability and performance of these techniques.\n",
    "\n",
    "- Quality Control: In quality control processes, Z-scores are used to monitor and assess the performance of processes or products. Deviations from expected values (measured in terms of Z-scores) may indicate issues or variations that need to be addressed."
   ]
  },
  {
   "cell_type": "markdown",
   "id": "dfe6bd02",
   "metadata": {},
   "source": [
    "## Question 9\n",
    "\n",
    "Central Limit Theorem states that when independent random variables are added together or averaged, their sum or average will tend to be normally distributed, regardless of the original distribution of the variables themselves, under certain conditions.\n",
    "\n",
    "The significance of the Central Limit Theorem lies in several key aspects:\n",
    "\n",
    "- Statistical Inference: The Central Limit Theorem forms the basis for many statistical inference techniques, such as confidence intervals and hypothesis testing. It allows us to make inferences about population parameters (such as the population mean) based on sample statistics, even when the population distribution is unknown or non-normal.\n",
    "\n",
    "- Sampling Distribution: The CLT explains why the sampling distribution of the sample mean tends to be approximately normal, regardless of the shape of the population distribution. This property holds true for a wide range of sample sizes, making it a powerful tool for statistical analysis.\n",
    "\n",
    "- Robustness: The CLT holds under fairly general conditions, making it robust and widely applicable in practice. As long as the sample size is sufficiently large, the distribution of the sample mean will approximate a normal distribution, even if the population distribution is non-normal or unknown.\n",
    "\n",
    "- Random Processes: The CLT is applicable to various random processes and phenomena in fields such as economics, biology, engineering, and finance. It provides insights into the behavior of aggregates or averages of random variables over time or across different experimental conditions.\n",
    "\n",
    "- Simulation and Modeling: The CLT is leveraged in simulation and modeling techniques, where random samples are generated to simulate real-world scenarios. It allows researchers and analysts to make predictions and draw conclusions based on the behavior of sample statistics."
   ]
  },
  {
   "cell_type": "markdown",
   "id": "704777ec",
   "metadata": {},
   "source": [
    "## Question 10\n",
    "\n",
    "The main assumptions of the Central Limit Theorem are:\n",
    "\n",
    "- Independence: The observations in the sample must be independent of each other. This means that the outcome of one observation does not affect the outcome of another observation. Independence is crucial to ensure that the samples are representative of the population and that each observation contributes independently to the sample mean.\n",
    "\n",
    "- Identical Distribution: The observations must be drawn from the same probability distribution (i.e., they must be identically distributed). This ensures that the sample mean is computed consistently across all observations and that the distribution of the sample mean is stable as the sample size increases.\n",
    "\n",
    "- Finite Variance: The population distribution from which the samples are drawn must have a finite variance. Variance measures the spread or dispersion of the data points around the mean. A finite variance ensures that the distribution of the sample mean converges to a normal distribution as the sample size increases.\n",
    "\n",
    "- Sample Size: The sample size must be sufficiently large. While there is no strict rule for what constitutes a \"sufficiently large\" sample size, larger sample sizes generally lead to better approximations of the normal distribution. As a rule of thumb, a sample size of at least 30 is often considered adequate for the CLT to apply, but the exact threshold may vary depending on the population distribution."
   ]
  },
  {
   "cell_type": "code",
   "execution_count": null,
   "id": "15388111",
   "metadata": {},
   "outputs": [],
   "source": []
  }
 ],
 "metadata": {
  "kernelspec": {
   "display_name": "Python 3 (ipykernel)",
   "language": "python",
   "name": "python3"
  },
  "language_info": {
   "codemirror_mode": {
    "name": "ipython",
    "version": 3
   },
   "file_extension": ".py",
   "mimetype": "text/x-python",
   "name": "python",
   "nbconvert_exporter": "python",
   "pygments_lexer": "ipython3",
   "version": "3.11.5"
  }
 },
 "nbformat": 4,
 "nbformat_minor": 5
}
