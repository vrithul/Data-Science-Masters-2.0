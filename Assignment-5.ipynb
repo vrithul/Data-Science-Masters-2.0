{
 "cells": [
  {
   "cell_type": "markdown",
   "id": "6ec18b85",
   "metadata": {},
   "source": [
    "## Answer 1"
   ]
  },
  {
   "cell_type": "code",
   "execution_count": 1,
   "id": "003b1db0",
   "metadata": {},
   "outputs": [],
   "source": [
    "class vehicle:\n",
    "    def __init__(self,name_of_vehicle,max_speed,average_of_vehicle):\n",
    "        self.name_of_vehicle = name_of_vehicle\n",
    "        self.max_speed = max_speed\n",
    "        self.average_of_vehicle = average_of_vehicle"
   ]
  },
  {
   "cell_type": "markdown",
   "id": "97f91d6f",
   "metadata": {},
   "source": [
    "## Answer 2"
   ]
  },
  {
   "cell_type": "code",
   "execution_count": 2,
   "id": "32d22c31",
   "metadata": {},
   "outputs": [],
   "source": [
    "class car(vehicle):\n",
    "    def seating_capacity(self,capacity):\n",
    "        return self.name_of_vehicle,capacity"
   ]
  },
  {
   "cell_type": "markdown",
   "id": "ed9e4970",
   "metadata": {},
   "source": [
    "## Answer 3\n",
    "\n",
    "When a class is derived from more than one base class then it is called as Multiple Inheritance."
   ]
  },
  {
   "cell_type": "code",
   "execution_count": 6,
   "id": "3142f702",
   "metadata": {},
   "outputs": [],
   "source": [
    "class A:\n",
    "    demo1 = 0\n",
    "    def fun1(self):\n",
    "        print(self.demo1)"
   ]
  },
  {
   "cell_type": "code",
   "execution_count": 7,
   "id": "4b5253d2",
   "metadata": {},
   "outputs": [],
   "source": [
    "class B:\n",
    "    demo2 = 0\n",
    "    def fun2(self):\n",
    "        print(self.demo2)"
   ]
  },
  {
   "cell_type": "code",
   "execution_count": 8,
   "id": "dc3a6fe4",
   "metadata": {},
   "outputs": [],
   "source": [
    "class C(A,B):\n",
    "    def fun3(self):\n",
    "        print('Hey there, You are in the child Class')"
   ]
  },
  {
   "cell_type": "markdown",
   "id": "ffe9074c",
   "metadata": {},
   "source": [
    "## Answer 4\n",
    "\n",
    "Getter and Setter are basically Property Decorators. **Getter** is a method that allows you to access an attribute in a given class whereas **Setter** is a method that allows you to set the value of an attribute in a class."
   ]
  },
  {
   "cell_type": "code",
   "execution_count": 9,
   "id": "3ff7623f",
   "metadata": {},
   "outputs": [],
   "source": [
    "class pwskills1:\n",
    "    def __init__(self,course_price,course_name):\n",
    "        self.__course_price = course_price\n",
    "        self.course_name = course_name\n",
    "    \n",
    "    @property\n",
    "    def course_price_access(self):\n",
    "        return self.__course_price\n",
    "    \n",
    "    @course_price_access.setter\n",
    "    def course_price_set(self,price):\n",
    "        if price <= 3500:\n",
    "            pass\n",
    "        else:\n",
    "            self.__course_price = price"
   ]
  },
  {
   "cell_type": "markdown",
   "id": "675b395a",
   "metadata": {},
   "source": [
    "## Answer 5\n",
    "\n",
    "Method overriding is a feature of Object Oriented Programming Language where the subclass or child class cam provide the program with specific characterisitics or a specific implementation process of data provided that are already defined in the parent class or superclass."
   ]
  },
  {
   "cell_type": "code",
   "execution_count": 10,
   "id": "d93825ca",
   "metadata": {},
   "outputs": [],
   "source": [
    "#parent class\n",
    "class Shape:\n",
    "    data1 = 'abc'\n",
    "    \n",
    "    def no_of_sides(self):\n",
    "        print('My sides need to be defined. I am from Shape Class')\n",
    "    \n",
    "    def two_dimensional(self):\n",
    "        print('I am a 2D object. I am from Shape Class')\n",
    "        \n",
    "#child class\n",
    "class Square(Shape):\n",
    "    data2 = 'xyz'\n",
    "    \n",
    "    def no_of_sides(self):\n",
    "        print('I have 4 sides. I am from Square Class')\n",
    "    \n",
    "    def color(self):\n",
    "        print('I have a teal colour. I am from Square Class')"
   ]
  },
  {
   "cell_type": "code",
   "execution_count": 11,
   "id": "c9a43fd3",
   "metadata": {},
   "outputs": [],
   "source": [
    "sq = Square()"
   ]
  },
  {
   "cell_type": "code",
   "execution_count": 12,
   "id": "e63439c8",
   "metadata": {},
   "outputs": [
    {
     "name": "stdout",
     "output_type": "stream",
     "text": [
      "I have 4 sides. I am from Square Class\n"
     ]
    }
   ],
   "source": [
    "sq.no_of_sides()"
   ]
  },
  {
   "cell_type": "code",
   "execution_count": null,
   "id": "bce78094",
   "metadata": {},
   "outputs": [],
   "source": []
  }
 ],
 "metadata": {
  "kernelspec": {
   "display_name": "Python 3 (ipykernel)",
   "language": "python",
   "name": "python3"
  },
  "language_info": {
   "codemirror_mode": {
    "name": "ipython",
    "version": 3
   },
   "file_extension": ".py",
   "mimetype": "text/x-python",
   "name": "python",
   "nbconvert_exporter": "python",
   "pygments_lexer": "ipython3",
   "version": "3.9.12"
  }
 },
 "nbformat": 4,
 "nbformat_minor": 5
}
