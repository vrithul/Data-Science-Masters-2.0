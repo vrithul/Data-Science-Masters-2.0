{
 "cells": [
  {
   "cell_type": "markdown",
   "id": "8a5f9840-038c-4623-bbe8-89c8c795d9a2",
   "metadata": {},
   "source": [
    "## Question 1\n",
    "\n",
    "Following are the three measures of central tendency:\n",
    "1. Mean\n",
    "2. Median\n",
    "3. Mode"
   ]
  },
  {
   "cell_type": "markdown",
   "id": "788fa33f-9cb9-4ded-acbf-5d4d992840a1",
   "metadata": {},
   "source": [
    "## Question 2\n",
    "\n",
    "**Measures of Central Tendency:**\n",
    "\n",
    "1. **Mean (Average):**\n",
    "   - **Description:** The mean is calculated by summing up all the values in a dataset and dividing by the number of observations.\n",
    "   - **Use:** It provides a measure of the central location of the data. The mean is sensitive to extreme values (outliers) and is appropriate for normally distributed data.\n",
    "\n",
    "2. **Median:**\n",
    "   - **Description:** The median is the middle value in a sorted dataset. If there is an even number of observations, the median is the average of the two middle values.\n",
    "   - **Use:** It is less sensitive to outliers than the mean and is suitable for skewed or non-normally distributed data.\n",
    "\n",
    "3. **Mode:**\n",
    "   - **Description:** The mode is the most frequently occurring value in a dataset.\n",
    "   - **Use:** It is useful for categorical data or discrete distributions. A dataset may have one mode (unimodal), more than one mode (multimodal), or no mode at all."
   ]
  },
  {
   "cell_type": "markdown",
   "id": "43decf29-19d2-4fdf-9382-e5a48eddbff2",
   "metadata": {},
   "source": [
    "## Question 3 "
   ]
  },
  {
   "cell_type": "code",
   "execution_count": 3,
   "id": "cd53456e-c1ce-42c1-a311-ab1d7c820306",
   "metadata": {},
   "outputs": [
    {
     "name": "stdout",
     "output_type": "stream",
     "text": [
      "The mean of the height is 177.01875\n",
      "The median of the height is 177.0\n",
      "The mode of the height is ModeResult(mode=177.0, count=3)\n"
     ]
    }
   ],
   "source": [
    "import numpy as np\n",
    "from scipy import stats\n",
    "height = [178,177,176,177,178.2,178,175,179,180,175,178.9,176.2,177,172.5,178,176.5]\n",
    "mean = np.mean(height)\n",
    "print(f\"The mean of the height is {mean}\")\n",
    "median = np.median(height)\n",
    "print(f\"The median of the height is {median}\")\n",
    "mode = stats.mode(height)\n",
    "print(f\"The mode of the height is {mode}\")"
   ]
  },
  {
   "cell_type": "markdown",
   "id": "a841dba3-a654-4c1e-8c6c-b7f2ef659592",
   "metadata": {},
   "source": [
    "## Question 4 "
   ]
  },
  {
   "cell_type": "code",
   "execution_count": 4,
   "id": "9424065f-f55d-4c90-b7e2-4381190f5a73",
   "metadata": {},
   "outputs": [
    {
     "name": "stdout",
     "output_type": "stream",
     "text": [
      "The standard deviation for the given set of height is 1.7885814036548633\n"
     ]
    }
   ],
   "source": [
    "height = [178,177,176,177,178.2,178,175,179,180,175,178.9,176.2,177,172.5,178,176.5]\n",
    "standard_deviation = np.std(height)\n",
    "print(f\"The standard deviation for the given set of height is {standard_deviation}\")"
   ]
  },
  {
   "cell_type": "markdown",
   "id": "5df253e9-d8cd-44a8-a6b0-ed356722ac4a",
   "metadata": {},
   "source": [
    "## Question 5 \n",
    "\n",
    "**Measures of Variability (Dispersion):**\n",
    "\n",
    "1. **Range:**\n",
    "   - **Description:** The range is the difference between the maximum and minimum values in a dataset.\n",
    "   - **Use:** It provides a simple measure of the spread of the data. However, it is sensitive to extreme values and may not capture the overall variability well.\n",
    "\n",
    "2. **Variance:**\n",
    "   - **Description:** Variance is the average of the squared differences between each data point and the mean.\n",
    "   - **Use:** It provides a measure of the average squared deviation from the mean. However, the units are squared, so the standard deviation is often preferred for better interpretability.\n",
    "\n",
    "3. **Standard Deviation:**\n",
    "   - **Description:** The standard deviation is the square root of the variance. It measures the average deviation of each data point from the mean.\n",
    "   - **Use:** It is a widely used and easily interpretable measure of variability. It is appropriate for normal distributions and is sensitive to outliers."
   ]
  },
  {
   "cell_type": "markdown",
   "id": "4c9cb5f7-3b0b-435c-bbc2-57a4cfcf3461",
   "metadata": {},
   "source": [
    "## Question 6 \n",
    "\n",
    "A Venn diagram uses overlapping circles or other shapes to illustrate the logical relationships between two or more sets of items."
   ]
  },
  {
   "cell_type": "markdown",
   "id": "4d992510-8f12-401f-89f8-f02602308f8a",
   "metadata": {},
   "source": [
    "## Question 7"
   ]
  },
  {
   "cell_type": "code",
   "execution_count": 8,
   "id": "730bfd41-c5f1-4daf-b5ac-94914cd3d4d2",
   "metadata": {},
   "outputs": [
    {
     "name": "stdout",
     "output_type": "stream",
     "text": [
      "The intersection is: [2 6]\n",
      "The union is: [ 0  2  3  4  5  6  7  8 10]\n"
     ]
    }
   ],
   "source": [
    "A = (2,3,4,5,6,7)\n",
    "B = (0,2,6,8,10)\n",
    "\n",
    "intersection = np.intersect1d(A,B)\n",
    "print(f\"The intersection is: {intersection}\")\n",
    "\n",
    "union = np.union1d(A,B)\n",
    "print(f\"The union is: {union}\")"
   ]
  },
  {
   "cell_type": "markdown",
   "id": "01c7eb57-a10b-4364-9710-c48c4fbe46d0",
   "metadata": {},
   "source": [
    "## Question 8\n",
    "\n",
    "Skewness is a statistical measure that describes the asymmetry of a probability distribution. In the context of data analysis, skewness helps to understand the shape of a dataset's distribution."
   ]
  },
  {
   "cell_type": "markdown",
   "id": "6863ed48-2aad-4d06-a203-4a19af2223d1",
   "metadata": {},
   "source": [
    "## Question 9 \n",
    "\n",
    "if a data is right skewed then ,**mean >= median >= mode**, which means Q2 will be closer to Q1 where Q3-Q2 will be greater than Q2 - Q1. "
   ]
  },
  {
   "cell_type": "markdown",
   "id": "16d6c5b2-728a-49ff-9d19-a015b467a6ba",
   "metadata": {},
   "source": [
    "## Question 10\n",
    "\n",
    "Covariance: Covariance is used to identify the direction of the relationship between two variables. A positive covariance indicates a positive relationship, while a negative covariance indicates a negative relationship. However, the magnitude of covariance is not easily interpretable, and it can be affected by the scales of the variables.\n",
    "\n",
    "Correlation: Correlation is widely used in statistical analysis because it provides a standardized measure of the strength and direction of a linear relationship. It is particularly valuable when comparing relationships between different pairs of variables. Correlation coefficients facilitate easier interpretation and allow for comparisons between variables with different scales. High correlations (close to -1 or 1) suggest a strong linear relationship, while values close to 0 indicate a weak or no linear relationship."
   ]
  },
  {
   "cell_type": "markdown",
   "id": "6c8eb675-e099-435c-8c0a-d8a95c7e91b8",
   "metadata": {},
   "source": [
    "## Question 11 \n",
    "\n",
    "The formula for calculating the sample mean is:\n",
    "\n",
    "x bar = sigma x / n, Where x is the dataset and n is the number of data. \n",
    "\n",
    "In the below dataset, we first add all the heights and then divide it with the number of observations which is 16."
   ]
  },
  {
   "cell_type": "code",
   "execution_count": 9,
   "id": "0daceca6-c28a-44dd-ad61-c2d8df332c8a",
   "metadata": {},
   "outputs": [
    {
     "name": "stdout",
     "output_type": "stream",
     "text": [
      "177.01875\n"
     ]
    }
   ],
   "source": [
    "height = [178,177,176,177,178.2,178,175,179,180,175,178.9,176.2,177,172.5,178,176.5]\n",
    "mean = np.mean(height)\n",
    "print(mean)"
   ]
  },
  {
   "cell_type": "markdown",
   "id": "478f2514-7a6c-47c2-ba51-cc5e6213253a",
   "metadata": {},
   "source": [
    "## Question 12 \n",
    "\n",
    "For a normal distibution data, the relationship between its measure of central tendency is: \n",
    "\n",
    "**mean=median=mode**"
   ]
  },
  {
   "cell_type": "markdown",
   "id": "a121084b-ea2a-454e-9d8c-13930e263f7a",
   "metadata": {},
   "source": [
    "## Question 13 \n",
    "\n",
    "Covariance: Covariance is used to identify the direction of the relationship between two variables. A positive covariance indicates a positive relationship, while a negative covariance indicates a negative relationship. However, the magnitude of covariance is not easily interpretable, and it can be affected by the scales of the variables.\n",
    "\n",
    "Correlation: Correlation is widely used in statistical analysis because it provides a standardized measure of the strength and direction of a linear relationship. It is particularly valuable when comparing relationships between different pairs of variables. Correlation coefficients facilitate easier interpretation and allow for comparisons between variables with different scales. High correlations (close to -1 or 1) suggest a strong linear relationship, while values close to 0 indicate a weak or no linear relationship."
   ]
  },
  {
   "cell_type": "markdown",
   "id": "a60b6904-01f7-4217-8eef-5733ab6ed2fe",
   "metadata": {},
   "source": [
    "## Question 14 \n",
    "\n",
    "Outliers can significantly impact measures of central tendency and dispersion, often skewing the values and leading to a misrepresentation of the data. Let's explore how outliers affect these statistical measures with an example:\n",
    "\n",
    "**Measures of Central Tendency:**\n",
    "1. **Mean (Average):** Outliers have a substantial impact on the mean because they pull the average towards extreme values. A single extremely high or low value can distort the mean, making it less representative of the majority of the data.\n",
    "\n",
    "   *Example:* Consider the dataset: \\[1, 2, 3, 4, 100\\]\n",
    "   - Without the outlier (100), the mean is \\( \\frac{1+2+3+4}{4} = 2.5 \\).\n",
    "   - With the outlier, the mean becomes \\( \\frac{1+2+3+4+100}{5} = 22 \\).\n",
    "\n",
    "2. **Median (Middle Value):** The median is less sensitive to outliers than the mean because it is not influenced by extreme values. However, if the dataset contains a significant number of outliers, the median may still be affected.\n",
    "\n",
    "   *Example:* Using the same dataset, the median remains \\(3\\) with or without the outlier.\n",
    "\n",
    "3. **Mode (Most Frequent Value):** Outliers usually don't affect the mode since it is based on the frequency of values. However, in some cases, a dataset with a single extreme outlier might have a unique mode at the outlier's value.\n",
    "\n",
    "**Measures of Dispersion:**\n",
    "1. **Range:** Outliers can significantly impact the range, which is the difference between the maximum and minimum values in a dataset. A single outlier can lead to an overestimation of the spread of the data.\n",
    "\n",
    "   *Example:* With the dataset \\[1, 2, 3, 4, 100\\], the range is \\(100 - 1 = 99\\) due to the outlier.\n",
    "\n",
    "2. **Interquartile Range (IQR):** The IQR, which measures the spread of the middle 50% of the data, is less sensitive to outliers than the range. Outliers can affect the extremes of the dataset but have a limited impact on the IQR.\n",
    "\n",
    "   *Example:* For the dataset \\[1, 2, 3, 4, 100\\], the IQR is \\(Q3 - Q1 = 4 - 2 = 2\\).\n",
    "\n",
    "3. **Standard Deviation:** Outliers can significantly impact the standard deviation because it considers the deviation of each data point from the mean. A single outlier can increase the standard deviation, indicating higher variability.\n",
    "\n",
    "   *Example:* For the dataset \\[1, 2, 3, 4, 100\\], the standard deviation is higher with the outlier, reflecting increased variability.\n",
    "\n"
   ]
  },
  {
   "cell_type": "code",
   "execution_count": null,
   "id": "e64538c5-a645-45bf-b69e-1b27fe5cd905",
   "metadata": {},
   "outputs": [],
   "source": []
  }
 ],
 "metadata": {
  "kernelspec": {
   "display_name": "Python 3 (ipykernel)",
   "language": "python",
   "name": "python3"
  },
  "language_info": {
   "codemirror_mode": {
    "name": "ipython",
    "version": 3
   },
   "file_extension": ".py",
   "mimetype": "text/x-python",
   "name": "python",
   "nbconvert_exporter": "python",
   "pygments_lexer": "ipython3",
   "version": "3.11.5"
  }
 },
 "nbformat": 4,
 "nbformat_minor": 5
}
