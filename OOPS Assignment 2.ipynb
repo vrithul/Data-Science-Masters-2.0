{
 "cells": [
  {
   "cell_type": "markdown",
   "id": "55cb502f",
   "metadata": {},
   "source": [
    "## Answer 1\n",
    "\n",
    "Abstraction is the process of hiding the internal details of an application from the outer world. It's used to create a boundary between the application and the client programs."
   ]
  },
  {
   "cell_type": "code",
   "execution_count": 1,
   "id": "158792c1",
   "metadata": {},
   "outputs": [],
   "source": [
    "import abc\n",
    "\n",
    "class pwskills:\n",
    "    \n",
    "    @abc.abstractmethod\n",
    "    def student_details(self):\n",
    "        pass\n",
    "    \n",
    "    @abc.abstractmethod\n",
    "    def student_assignment(self):\n",
    "        pass\n",
    "    \n",
    "    @abc.abstractmethod\n",
    "    def student_marks(self):\n",
    "        pass"
   ]
  },
  {
   "cell_type": "code",
   "execution_count": 2,
   "id": "ffb4d6eb",
   "metadata": {},
   "outputs": [],
   "source": [
    "class overall_details(pwskills):\n",
    "    def student_details(self):\n",
    "        return 'This is a method for taking student details'\n",
    "    def student_assignment(self):\n",
    "        return 'This is amethod for taking assignment details of all the students'"
   ]
  },
  {
   "cell_type": "code",
   "execution_count": 3,
   "id": "e45810b6",
   "metadata": {},
   "outputs": [],
   "source": [
    "class data_science_students(pwskills):\n",
    "    def student_details(self):\n",
    "        return 'This is a method for taking student details of data science masters'\n",
    "    def student_assignment(self):\n",
    "        return 'This is a method for taking assignment details of data science masters'"
   ]
  },
  {
   "cell_type": "markdown",
   "id": "f64d28e7",
   "metadata": {},
   "source": [
    "## Answer 2\n",
    "\n",
    "In simpler terms, **Abstraction** is hiding the details and implementation of the code. **Encapsulation** is hiding the data and controlling the visibility of the code."
   ]
  },
  {
   "cell_type": "code",
   "execution_count": 4,
   "id": "4e7df3ab",
   "metadata": {},
   "outputs": [],
   "source": [
    "import abc\n",
    "\n",
    "class pwskills:\n",
    "    \n",
    "    @abc.abstractmethod\n",
    "    def student_details(self):\n",
    "        pass\n",
    "    \n",
    "    @abc.abstractmethod\n",
    "    def student_assignment(self):\n",
    "        pass\n",
    "    \n",
    "    @abc.abstractmethod\n",
    "    def student_marks(self):\n",
    "        pass"
   ]
  },
  {
   "cell_type": "code",
   "execution_count": 5,
   "id": "818cabd1",
   "metadata": {},
   "outputs": [],
   "source": [
    "class overall_details(pwskills):\n",
    "    def student_details(self):\n",
    "        return 'This is a method for taking student details'\n",
    "    def student_assignment(self):\n",
    "        return 'This is amethod for taking assignment details of all the students'"
   ]
  },
  {
   "cell_type": "code",
   "execution_count": 6,
   "id": "eb7ae1bf",
   "metadata": {},
   "outputs": [],
   "source": [
    "class data_science_students(pwskills):\n",
    "    def student_details(self):\n",
    "        return 'This is a method for taking student details of data science masters'\n",
    "    def student_assignment(self):\n",
    "        return 'This is a method for taking assignment details of data science masters'"
   ]
  },
  {
   "cell_type": "code",
   "execution_count": 7,
   "id": "fed2812d",
   "metadata": {},
   "outputs": [],
   "source": [
    "class car:\n",
    "    def __init__(self,year,make,model,speed):\n",
    "        self.__year = year\n",
    "        self.__make = make\n",
    "        self.__model = model\n",
    "        self.__speed = 0\n",
    "    def set_speed(self,speed):\n",
    "        if speed < 0:\n",
    "            self.__speed = 0\n",
    "        else:\n",
    "            self.__speed = speed\n",
    "    def get_speed(self):\n",
    "        return self.__speed"
   ]
  },
  {
   "cell_type": "markdown",
   "id": "8b61f988",
   "metadata": {},
   "source": [
    "## Answer 3\n",
    "\n",
    "The **'abc' module** in the Python library provides the infrastructure for defining custom abstract base classes. Abstract class cannot be instantiated in python. An Abstract method can be call by its subclasses. \n",
    "\n",
    "It is used to make the method of the abstract class as an abstract method."
   ]
  },
  {
   "cell_type": "markdown",
   "id": "a98fa115",
   "metadata": {},
   "source": [
    "## Answer 4\n",
    "\n",
    "Data Abstraction in Python can be achieved through creating abstract classes and inheriting them later."
   ]
  },
  {
   "cell_type": "markdown",
   "id": "4ca0c91f",
   "metadata": {},
   "source": [
    "## Answer 5\n",
    "\n",
    "Abstract classes are not complete, as they may have some methods that are not defined. So we cannot create an instance or object of an abstract class in Python."
   ]
  },
  {
   "cell_type": "code",
   "execution_count": 8,
   "id": "dacbe96d",
   "metadata": {},
   "outputs": [],
   "source": [
    "import abc\n",
    "\n",
    "class pwskills:\n",
    "    \n",
    "    @abc.abstractmethod\n",
    "    def student_details(self):\n",
    "        pass\n",
    "    \n",
    "    @abc.abstractmethod\n",
    "    def student_assignment(self):\n",
    "        pass\n",
    "    \n",
    "    @abc.abstractmethod\n",
    "    def student_marks(self):\n",
    "        pass"
   ]
  },
  {
   "cell_type": "code",
   "execution_count": 9,
   "id": "8d030c5c",
   "metadata": {},
   "outputs": [],
   "source": [
    "pw = pwskills()"
   ]
  }
 ],
 "metadata": {
  "kernelspec": {
   "display_name": "Python 3 (ipykernel)",
   "language": "python",
   "name": "python3"
  },
  "language_info": {
   "codemirror_mode": {
    "name": "ipython",
    "version": 3
   },
   "file_extension": ".py",
   "mimetype": "text/x-python",
   "name": "python",
   "nbconvert_exporter": "python",
   "pygments_lexer": "ipython3",
   "version": "3.9.12"
  }
 },
 "nbformat": 4,
 "nbformat_minor": 5
}
